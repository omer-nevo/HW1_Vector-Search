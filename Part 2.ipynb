{
 "cells": [
  {
   "cell_type": "code",
   "execution_count": null,
   "id": "initial_id",
   "metadata": {
    "ExecuteTime": {
     "end_time": "2024-06-10T21:00:36.522780Z",
     "start_time": "2024-06-10T21:00:35.443137Z"
    },
    "pycharm": {
     "name": "#%%\n",
     "is_executing": true
    }
   },
   "outputs": [],
   "source": [
    "import numpy as np\n",
    "from scipy import spatial \n",
    "import faiss\n",
    "from time import time\n",
    "import matplotlib.pyplot as plt\n",
    "from collections import defaultdict"
   ]
  },
  {
   "cell_type": "markdown",
   "id": "62f09c59a02a3b0d",
   "metadata": {
    "pycharm": {
     "name": "#%% md\n"
    }
   },
   "source": [
    "## Helper Function"
   ]
  },
  {
   "cell_type": "code",
   "execution_count": null,
   "id": "5a991f1eb012a476",
   "metadata": {
    "ExecuteTime": {
     "end_time": "2024-06-10T21:00:44.538572Z",
     "start_time": "2024-06-10T21:00:44.525608Z"
    },
    "pycharm": {
     "name": "#%%\n"
    }
   },
   "outputs": [],
   "source": [
    "def semi_optimized_exhaustive_search(\n",
    "        index_vectors: np.ndarray,\n",
    "        query_vectors: np.ndarray,\n",
    "        k: int,\n",
    "):\n",
    "    \"\"\"\n",
    "    This function performs an optimized exhaustive search.\n",
    "    Args:\n",
    "        index_vectors: An array of shape (n_index, dim) containing the index vectors.\n",
    "        query_vectors: An array of shape (n_queries, dim) containing the query vectors. \n",
    "        dim: The dimensionality of the vectors.\n",
    "    Returns:\n",
    "        An array of shape (n_queries, k) containing the indices of the k nearest neighbors for each query vector.\n",
    "    \"\"\"\n",
    "    ann_lists = []\n",
    "    for query_vec in query_vectors:\n",
    "        distances = np.linalg.norm(index_vectors - query_vec, axis=1)\n",
    "        ann_lists.append(list(np.argsort(distances)[:k]))\n",
    "    return np.array(ann_lists)"
   ]
  },
  {
   "cell_type": "code",
   "execution_count": null,
   "id": "a8ef475c717fbe2e",
   "metadata": {
    "ExecuteTime": {
     "end_time": "2024-06-10T21:00:47.719310Z",
     "start_time": "2024-06-10T21:00:47.698362Z"
    },
    "pycharm": {
     "name": "#%%\n"
    }
   },
   "outputs": [],
   "source": [
    "def build_faiss_flatl2_index(\n",
    "        index_vectors: np.ndarray,\n",
    "        dim: int,\n",
    "):\n",
    "    \"\"\"\n",
    "    This function builds a Faiss flat L2 index.\n",
    "    Args:\n",
    "        index_vectors: An array of shape (n_index, dim) containing the index vectors.\n",
    "        dim: The dimensionality of the vectors. \n",
    "    Returns:\n",
    "        A Faiss flat L2 index.\n",
    "    \"\"\"\n",
    "    index = faiss.IndexFlatL2(dim)\n",
    "    index.add(index_vectors)\n",
    "    return index"
   ]
  },
  {
   "cell_type": "code",
   "execution_count": null,
   "id": "1df7a2d698755a82",
   "metadata": {
    "ExecuteTime": {
     "end_time": "2024-06-10T21:00:48.174553Z",
     "start_time": "2024-06-10T21:00:48.157599Z"
    },
    "pycharm": {
     "name": "#%%\n"
    }
   },
   "outputs": [],
   "source": [
    "def faiss_search(\n",
    "        query_vectors: np.ndarray,\n",
    "        index: faiss.Index,\n",
    "        k: int,\n",
    "):\n",
    "    \"\"\"\n",
    "    This function uses a Faiss index to search for the k-nearest neighbors of query_vectors.\n",
    "    Args:\n",
    "        query_vectors: An array of shape (n_queries, dim) containing the query vectors. \n",
    "        index: A Faiss index.\n",
    "        k: The number of nearest neighbors to retrieve.\n",
    "    Returns:\n",
    "        An array of shape (, ) containing the indices of the k-nearest neighbors for each query vector.\n",
    "    \"\"\"\n",
    "    distances, indices = index.search(query_vectors, k)\n",
    "    return indices"
   ]
  },
  {
   "cell_type": "code",
   "execution_count": null,
   "id": "af14bea64023a3d4",
   "metadata": {
    "ExecuteTime": {
     "end_time": "2024-06-10T21:00:49.337476Z",
     "start_time": "2024-06-10T21:00:49.325508Z"
    },
    "pycharm": {
     "name": "#%%\n"
    }
   },
   "outputs": [],
   "source": [
    "def build_faiss_lsh_index(\n",
    "        index_vectors: np.ndarray,\n",
    "        dim: int,\n",
    "        nbits: int,\n",
    "):\n",
    "    \"\"\"\n",
    "    This function builds a Faiss LSH index.\n",
    "    Args:\n",
    "        index_vectors: An array of shape (n_index, dim) containing the index vectors.\n",
    "        dim: The dimensionality of the vectors. \n",
    "        nbits: The number of bits to use in the hash.\n",
    "    Returns:\n",
    "        A Faiss LSH index.\n",
    "    \"\"\"\n",
    "    index = faiss.IndexLSH(dim, nbits)\n",
    "    index.add(index_vectors)\n",
    "    return index"
   ]
  },
  {
   "cell_type": "code",
   "execution_count": null,
   "id": "b4b0932dfa7d7a4c",
   "metadata": {
    "ExecuteTime": {
     "end_time": "2024-06-10T21:00:49.732824Z",
     "start_time": "2024-06-10T21:00:49.718871Z"
    },
    "pycharm": {
     "name": "#%%\n"
    }
   },
   "outputs": [],
   "source": [
    "def compute_recall_at_k(\n",
    "        nn_gt: np.ndarray,\n",
    "        ann: np.ndarray,\n",
    "        k: int,\n",
    "):\n",
    "    \"\"\"\n",
    "    This function computes the recall@k.\n",
    "    Args:\n",
    "        nn_gt: The ground truth nearest neighbors.\n",
    "        ann: The approximate nearest neighbors.\n",
    "        k: The number of nearest neighbors to consider.\n",
    "    Returns:\n",
    "        The recall@k.\n",
    "    \"\"\"\n",
    "    return round(sum([len(set(ann[i]) & set(nn_gt[i])) / k for i in range(len(ann))])/len(ann), 3)"
   ]
  },
  {
   "cell_type": "markdown",
   "id": "77d4be2e90ed842",
   "metadata": {
    "pycharm": {
     "name": "#%% md\n"
    }
   },
   "source": [
    "# 2.1 -- LSH vs Naive Exhaustive Search (Regular Index Vectors)\n",
    "### You just have to run the following cells and add the following results to the report:\n",
    "* running time of the ground truth computation with semi_optimized_exhaustive_search (wall time)\n",
    "* running time of creating faiss_lsh_index (wall time)\n",
    "* running time of faiss_search over query_vectors with faiss_lsh_index (wall time)\n",
    "* recall@10 for faiss_lsh_ann"
   ]
  },
  {
   "cell_type": "code",
   "execution_count": null,
   "id": "b4fdbd7671405821",
   "metadata": {
    "ExecuteTime": {
     "end_time": "2024-06-10T21:00:52.378174Z",
     "start_time": "2024-06-10T21:00:52.351252Z"
    },
    "pycharm": {
     "name": "#%%\n"
    }
   },
   "outputs": [],
   "source": [
    "query_vectors = np.load('data/query_vectors.npy')\n",
    "index_vectors = np.load('data/index_vectors.npy')\n",
    "k=10\n",
    "dim = index_vectors.shape[1]"
   ]
  },
  {
   "cell_type": "code",
   "execution_count": null,
   "id": "65ff74d429524ffc",
   "metadata": {
    "ExecuteTime": {
     "end_time": "2024-06-10T21:18:41.035362Z",
     "start_time": "2024-06-10T21:18:41.017409Z"
    },
    "pycharm": {
     "name": "#%%\n"
    }
   },
   "outputs": [],
   "source": [
    "%%time\n",
    "gt_nn = semi_optimized_exhaustive_search(index_vectors, query_vectors, k)"
   ]
  },
  {
   "cell_type": "code",
   "execution_count": null,
   "id": "bd448cbdb96b1ba0",
   "metadata": {
    "ExecuteTime": {
     "end_time": "2024-06-10T21:18:36.008226Z",
     "start_time": "2024-06-10T21:18:35.998251Z"
    },
    "pycharm": {
     "name": "#%%\n"
    }
   },
   "outputs": [],
   "source": [
    "%%time\n",
    "faiss_lsh_index = build_faiss_lsh_index(index_vectors, dim, nbits=2000)"
   ]
  },
  {
   "cell_type": "code",
   "execution_count": null,
   "id": "b0a321e6b7406267",
   "metadata": {
    "ExecuteTime": {
     "end_time": "2024-06-10T21:18:32.391344Z",
     "start_time": "2024-06-10T21:18:32.385337Z"
    },
    "pycharm": {
     "name": "#%%\n"
    }
   },
   "outputs": [],
   "source": [
    "%%time\n",
    "faiss_lsh_ann = faiss_search(query_vectors, faiss_lsh_index, k)"
   ]
  },
  {
   "cell_type": "code",
   "execution_count": null,
   "id": "e5554595c4d77a27",
   "metadata": {
    "ExecuteTime": {
     "end_time": "2024-06-10T21:18:26.322703Z",
     "start_time": "2024-06-10T21:18:26.233820Z"
    },
    "pycharm": {
     "name": "#%%\n"
    }
   },
   "outputs": [],
   "source": [
    "print(f\"recall@10 for faiss_lsh_index: {compute_recall_at_k(gt_nn, faiss_lsh_ann, k)}\")"
   ]
  },
  {
   "cell_type": "markdown",
   "id": "ad5ca983b3a893e5",
   "metadata": {
    "pycharm": {
     "name": "#%% md\n"
    }
   },
   "source": [
    "# 2.2 -- Custom Indexing Algorithm\n",
    "Build an indexing algorithm that satisfies the following requirements:\n",
    "* The indexing algorithm should be able to handle vectors of different dimensions\n",
    "* The running time of the indexing should be less than half of the running time of semi_optimized_exhaustive_search), reported in Section 2.1.\n",
    "* The running time of searching over the index should be less than a third (1/3) of the time of the semi_optimized_exhaustive_search function, reported in Section 2.1.\n",
    "* The performance (in terms of recall@10) of the indexing algorithm should be at least 0.8.\n",
    "\n",
    "The last three bullets should also appear in the report.\n",
    "You are allowed to add as many helper functions as you need. You cannot use faiss of scipy libraries for this task. Numpy is allowed. \n",
    "\n",
    "You can also test your algorithm with the additional two query-index sets by replacing the calls made few cells ago to:\n",
    "\n",
    "    query_vectors = np.load('data/query_vectors2.npy')\n",
    "    index_vectors = np.load('data/index_vectors2.npy')\n",
    "or:\n",
    "\n",
    "    query_vectors = np.load('data/query_vectors3.npy')\n",
    "    index_vectors = np.load('data/index_vectors3.npy')\n",
    "    \n",
    "the aforementioned requirements should also be satisfied over these two query-index sets. No need to insert the results over these two to the report."
   ]
  },
  {
   "cell_type": "code",
   "execution_count": null,
   "id": "8421dc36363650c5",
   "metadata": {
    "ExecuteTime": {
     "end_time": "2024-05-27T12:25:32.578478400Z",
     "start_time": "2024-05-27T12:25:32.483352800Z"
    },
    "pycharm": {
     "name": "#%%\n"
    }
   },
   "outputs": [],
   "source": [
    "#TODO: Write your code for 2.2.2 here\n",
    "# You are allowed to add more arguments to the functions and create more functions if needed.\n",
    "\n",
    "def custom_indexing_algorithm(index_vectors, dim):\n",
    "    \"\"\"\n",
    "    This function builds an index from scratch.\n",
    "    Args:\n",
    "        index_vectors: An array of shape (n_index, dim) containing the index vectors.\n",
    "        dim: The dimensionality of the vectors.\n",
    "    Returns:\n",
    "        An index.\n",
    "    \"\"\"\n",
    "    return \n",
    "\n",
    "\n",
    "def custom_index_search(query_vectors, index, k):\n",
    "    \"\"\"\n",
    "    This function searches over the custom index.\n",
    "    Args:\n",
    "        query_vectors: An array of shape (n_queries, dim) containing the query vectors.\n",
    "        index: The custom index.\n",
    "        k: The number of nearest neighbors to retrieve.\n",
    "    \"\"\"\n",
    "    return\n",
    "    "
   ]
  },
  {
   "cell_type": "code",
   "execution_count": null,
   "id": "a50f4b92f2ec12fd",
   "metadata": {
    "ExecuteTime": {
     "end_time": "2024-06-10T21:00:22.662764Z",
     "start_time": "2024-06-10T21:00:22.650804Z"
    },
    "pycharm": {
     "name": "#%%\n"
    }
   },
   "outputs": [],
   "source": [
    "# Add hyperparameters here (if needed)"
   ]
  },
  {
   "cell_type": "code",
   "execution_count": null,
   "id": "ef371ecd242846db",
   "metadata": {
    "pycharm": {
     "name": "#%%\n"
    }
   },
   "outputs": [],
   "source": [
    "%%time\n",
    "custom_index = custom_indexing_algorithm(index_vectors, dim)"
   ]
  },
  {
   "cell_type": "code",
   "execution_count": null,
   "id": "1c40c61275a3d001",
   "metadata": {
    "pycharm": {
     "name": "#%%\n"
    }
   },
   "outputs": [],
   "source": [
    "%%time\n",
    "custom_index_ann = custom_index_search(query_vectors, custom_index, k)"
   ]
  },
  {
   "cell_type": "code",
   "execution_count": null,
   "id": "3ddba190c55cd0af",
   "metadata": {
    "ExecuteTime": {
     "end_time": "2024-05-27T13:30:57.922904800Z",
     "start_time": "2024-05-27T13:30:57.874785600Z"
    },
    "pycharm": {
     "name": "#%%\n"
    }
   },
   "outputs": [],
   "source": [
    "print(f\"recall@10 for custom_index_search: {compute_recall_at_k(gt_nn, custom_index_ann, k)}\")"
   ]
  },
  {
   "cell_type": "code",
   "execution_count": null,
   "id": "9707f4e593c385ac",
   "metadata": {
    "ExecuteTime": {
     "end_time": "2024-06-10T21:35:09.991891Z",
     "start_time": "2024-06-10T21:35:09.983920Z"
    },
    "pycharm": {
     "name": "#%%\n"
    }
   },
   "outputs": [],
   "source": []
  }
 ],
 "metadata": {
  "kernelspec": {
   "display_name": "Python 3 (ipykernel)",
   "language": "python",
   "name": "python3"
  },
  "language_info": {
   "codemirror_mode": {
    "name": "ipython",
    "version": 3
   },
   "file_extension": ".py",
   "mimetype": "text/x-python",
   "name": "python",
   "nbconvert_exporter": "python",
   "pygments_lexer": "ipython3",
   "version": "3.11.3"
  }
 },
 "nbformat": 4,
 "nbformat_minor": 5
}