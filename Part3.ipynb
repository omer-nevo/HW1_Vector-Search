{
  "cells": [
    {
      "cell_type": "code",
      "source": [
        "warnings.filterwarnings(\"ignore\")"
      ],
      "metadata": {
        "id": "6HErIWRUx-mh"
      },
      "id": "6HErIWRUx-mh",
      "execution_count": 299,
      "outputs": []
    },
    {
      "cell_type": "code",
      "source": [
        "!pip install transformers sentence-transformers datasets cohere"
      ],
      "metadata": {
        "colab": {
          "base_uri": "https://localhost:8080/"
        },
        "id": "R1BF6cW7c2i5",
        "outputId": "c48744a9-e8c1-4d73-ed4d-a35bc8828009"
      },
      "id": "R1BF6cW7c2i5",
      "execution_count": 300,
      "outputs": [
        {
          "output_type": "stream",
          "name": "stdout",
          "text": [
            "Requirement already satisfied: transformers in /usr/local/lib/python3.10/dist-packages (4.41.2)\n",
            "Requirement already satisfied: sentence-transformers in /usr/local/lib/python3.10/dist-packages (3.0.1)\n",
            "Requirement already satisfied: datasets in /usr/local/lib/python3.10/dist-packages (2.20.0)\n",
            "Requirement already satisfied: cohere in /usr/local/lib/python3.10/dist-packages (5.5.8)\n",
            "Requirement already satisfied: filelock in /usr/local/lib/python3.10/dist-packages (from transformers) (3.15.3)\n",
            "Requirement already satisfied: huggingface-hub<1.0,>=0.23.0 in /usr/local/lib/python3.10/dist-packages (from transformers) (0.23.4)\n",
            "Requirement already satisfied: numpy>=1.17 in /usr/local/lib/python3.10/dist-packages (from transformers) (1.25.2)\n",
            "Requirement already satisfied: packaging>=20.0 in /usr/local/lib/python3.10/dist-packages (from transformers) (24.1)\n",
            "Requirement already satisfied: pyyaml>=5.1 in /usr/local/lib/python3.10/dist-packages (from transformers) (6.0.1)\n",
            "Requirement already satisfied: regex!=2019.12.17 in /usr/local/lib/python3.10/dist-packages (from transformers) (2024.5.15)\n",
            "Requirement already satisfied: requests in /usr/local/lib/python3.10/dist-packages (from transformers) (2.32.3)\n",
            "Requirement already satisfied: tokenizers<0.20,>=0.19 in /usr/local/lib/python3.10/dist-packages (from transformers) (0.19.1)\n",
            "Requirement already satisfied: safetensors>=0.4.1 in /usr/local/lib/python3.10/dist-packages (from transformers) (0.4.3)\n",
            "Requirement already satisfied: tqdm>=4.27 in /usr/local/lib/python3.10/dist-packages (from transformers) (4.66.4)\n",
            "Requirement already satisfied: torch>=1.11.0 in /usr/local/lib/python3.10/dist-packages (from sentence-transformers) (2.3.0+cu121)\n",
            "Requirement already satisfied: scikit-learn in /usr/local/lib/python3.10/dist-packages (from sentence-transformers) (1.2.2)\n",
            "Requirement already satisfied: scipy in /usr/local/lib/python3.10/dist-packages (from sentence-transformers) (1.11.4)\n",
            "Requirement already satisfied: Pillow in /usr/local/lib/python3.10/dist-packages (from sentence-transformers) (9.4.0)\n",
            "Requirement already satisfied: pyarrow>=15.0.0 in /usr/local/lib/python3.10/dist-packages (from datasets) (16.1.0)\n",
            "Requirement already satisfied: pyarrow-hotfix in /usr/local/lib/python3.10/dist-packages (from datasets) (0.6)\n",
            "Requirement already satisfied: dill<0.3.9,>=0.3.0 in /usr/local/lib/python3.10/dist-packages (from datasets) (0.3.8)\n",
            "Requirement already satisfied: pandas in /usr/local/lib/python3.10/dist-packages (from datasets) (2.0.3)\n",
            "Requirement already satisfied: xxhash in /usr/local/lib/python3.10/dist-packages (from datasets) (3.4.1)\n",
            "Requirement already satisfied: multiprocess in /usr/local/lib/python3.10/dist-packages (from datasets) (0.70.16)\n",
            "Requirement already satisfied: fsspec[http]<=2024.5.0,>=2023.1.0 in /usr/local/lib/python3.10/dist-packages (from datasets) (2023.6.0)\n",
            "Requirement already satisfied: aiohttp in /usr/local/lib/python3.10/dist-packages (from datasets) (3.9.5)\n",
            "Requirement already satisfied: boto3<2.0.0,>=1.34.0 in /usr/local/lib/python3.10/dist-packages (from cohere) (1.34.136)\n",
            "Requirement already satisfied: fastavro<2.0.0,>=1.9.4 in /usr/local/lib/python3.10/dist-packages (from cohere) (1.9.4)\n",
            "Requirement already satisfied: httpx>=0.21.2 in /usr/local/lib/python3.10/dist-packages (from cohere) (0.27.0)\n",
            "Requirement already satisfied: httpx-sse<0.5.0,>=0.4.0 in /usr/local/lib/python3.10/dist-packages (from cohere) (0.4.0)\n",
            "Requirement already satisfied: parameterized<0.10.0,>=0.9.0 in /usr/local/lib/python3.10/dist-packages (from cohere) (0.9.0)\n",
            "Requirement already satisfied: pydantic>=1.9.2 in /usr/local/lib/python3.10/dist-packages (from cohere) (2.7.4)\n",
            "Requirement already satisfied: types-requests<3.0.0,>=2.0.0 in /usr/local/lib/python3.10/dist-packages (from cohere) (2.32.0.20240622)\n",
            "Requirement already satisfied: typing_extensions>=4.0.0 in /usr/local/lib/python3.10/dist-packages (from cohere) (4.12.2)\n",
            "Requirement already satisfied: botocore<1.35.0,>=1.34.136 in /usr/local/lib/python3.10/dist-packages (from boto3<2.0.0,>=1.34.0->cohere) (1.34.136)\n",
            "Requirement already satisfied: jmespath<2.0.0,>=0.7.1 in /usr/local/lib/python3.10/dist-packages (from boto3<2.0.0,>=1.34.0->cohere) (1.0.1)\n",
            "Requirement already satisfied: s3transfer<0.11.0,>=0.10.0 in /usr/local/lib/python3.10/dist-packages (from boto3<2.0.0,>=1.34.0->cohere) (0.10.2)\n",
            "Requirement already satisfied: aiosignal>=1.1.2 in /usr/local/lib/python3.10/dist-packages (from aiohttp->datasets) (1.3.1)\n",
            "Requirement already satisfied: attrs>=17.3.0 in /usr/local/lib/python3.10/dist-packages (from aiohttp->datasets) (23.2.0)\n",
            "Requirement already satisfied: frozenlist>=1.1.1 in /usr/local/lib/python3.10/dist-packages (from aiohttp->datasets) (1.4.1)\n",
            "Requirement already satisfied: multidict<7.0,>=4.5 in /usr/local/lib/python3.10/dist-packages (from aiohttp->datasets) (6.0.5)\n",
            "Requirement already satisfied: yarl<2.0,>=1.0 in /usr/local/lib/python3.10/dist-packages (from aiohttp->datasets) (1.9.4)\n",
            "Requirement already satisfied: async-timeout<5.0,>=4.0 in /usr/local/lib/python3.10/dist-packages (from aiohttp->datasets) (4.0.3)\n",
            "Requirement already satisfied: anyio in /usr/local/lib/python3.10/dist-packages (from httpx>=0.21.2->cohere) (3.7.1)\n",
            "Requirement already satisfied: certifi in /usr/local/lib/python3.10/dist-packages (from httpx>=0.21.2->cohere) (2024.6.2)\n",
            "Requirement already satisfied: httpcore==1.* in /usr/local/lib/python3.10/dist-packages (from httpx>=0.21.2->cohere) (1.0.5)\n",
            "Requirement already satisfied: idna in /usr/local/lib/python3.10/dist-packages (from httpx>=0.21.2->cohere) (3.7)\n",
            "Requirement already satisfied: sniffio in /usr/local/lib/python3.10/dist-packages (from httpx>=0.21.2->cohere) (1.3.1)\n",
            "Requirement already satisfied: h11<0.15,>=0.13 in /usr/local/lib/python3.10/dist-packages (from httpcore==1.*->httpx>=0.21.2->cohere) (0.14.0)\n",
            "Requirement already satisfied: annotated-types>=0.4.0 in /usr/local/lib/python3.10/dist-packages (from pydantic>=1.9.2->cohere) (0.7.0)\n",
            "Requirement already satisfied: pydantic-core==2.18.4 in /usr/local/lib/python3.10/dist-packages (from pydantic>=1.9.2->cohere) (2.18.4)\n",
            "Requirement already satisfied: charset-normalizer<4,>=2 in /usr/local/lib/python3.10/dist-packages (from requests->transformers) (3.3.2)\n",
            "Requirement already satisfied: urllib3<3,>=1.21.1 in /usr/local/lib/python3.10/dist-packages (from requests->transformers) (2.0.7)\n",
            "Requirement already satisfied: sympy in /usr/local/lib/python3.10/dist-packages (from torch>=1.11.0->sentence-transformers) (1.12.1)\n",
            "Requirement already satisfied: networkx in /usr/local/lib/python3.10/dist-packages (from torch>=1.11.0->sentence-transformers) (3.3)\n",
            "Requirement already satisfied: jinja2 in /usr/local/lib/python3.10/dist-packages (from torch>=1.11.0->sentence-transformers) (3.1.4)\n",
            "Requirement already satisfied: nvidia-cuda-nvrtc-cu12==12.1.105 in /usr/local/lib/python3.10/dist-packages (from torch>=1.11.0->sentence-transformers) (12.1.105)\n",
            "Requirement already satisfied: nvidia-cuda-runtime-cu12==12.1.105 in /usr/local/lib/python3.10/dist-packages (from torch>=1.11.0->sentence-transformers) (12.1.105)\n",
            "Requirement already satisfied: nvidia-cuda-cupti-cu12==12.1.105 in /usr/local/lib/python3.10/dist-packages (from torch>=1.11.0->sentence-transformers) (12.1.105)\n",
            "Requirement already satisfied: nvidia-cudnn-cu12==8.9.2.26 in /usr/local/lib/python3.10/dist-packages (from torch>=1.11.0->sentence-transformers) (8.9.2.26)\n",
            "Requirement already satisfied: nvidia-cublas-cu12==12.1.3.1 in /usr/local/lib/python3.10/dist-packages (from torch>=1.11.0->sentence-transformers) (12.1.3.1)\n",
            "Requirement already satisfied: nvidia-cufft-cu12==11.0.2.54 in /usr/local/lib/python3.10/dist-packages (from torch>=1.11.0->sentence-transformers) (11.0.2.54)\n",
            "Requirement already satisfied: nvidia-curand-cu12==10.3.2.106 in /usr/local/lib/python3.10/dist-packages (from torch>=1.11.0->sentence-transformers) (10.3.2.106)\n",
            "Requirement already satisfied: nvidia-cusolver-cu12==11.4.5.107 in /usr/local/lib/python3.10/dist-packages (from torch>=1.11.0->sentence-transformers) (11.4.5.107)\n",
            "Requirement already satisfied: nvidia-cusparse-cu12==12.1.0.106 in /usr/local/lib/python3.10/dist-packages (from torch>=1.11.0->sentence-transformers) (12.1.0.106)\n",
            "Requirement already satisfied: nvidia-nccl-cu12==2.20.5 in /usr/local/lib/python3.10/dist-packages (from torch>=1.11.0->sentence-transformers) (2.20.5)\n",
            "Requirement already satisfied: nvidia-nvtx-cu12==12.1.105 in /usr/local/lib/python3.10/dist-packages (from torch>=1.11.0->sentence-transformers) (12.1.105)\n",
            "Requirement already satisfied: triton==2.3.0 in /usr/local/lib/python3.10/dist-packages (from torch>=1.11.0->sentence-transformers) (2.3.0)\n",
            "Requirement already satisfied: nvidia-nvjitlink-cu12 in /usr/local/lib/python3.10/dist-packages (from nvidia-cusolver-cu12==11.4.5.107->torch>=1.11.0->sentence-transformers) (12.5.40)\n",
            "Requirement already satisfied: python-dateutil>=2.8.2 in /usr/local/lib/python3.10/dist-packages (from pandas->datasets) (2.8.2)\n",
            "Requirement already satisfied: pytz>=2020.1 in /usr/local/lib/python3.10/dist-packages (from pandas->datasets) (2023.4)\n",
            "Requirement already satisfied: tzdata>=2022.1 in /usr/local/lib/python3.10/dist-packages (from pandas->datasets) (2024.1)\n",
            "Requirement already satisfied: joblib>=1.1.1 in /usr/local/lib/python3.10/dist-packages (from scikit-learn->sentence-transformers) (1.4.2)\n",
            "Requirement already satisfied: threadpoolctl>=2.0.0 in /usr/local/lib/python3.10/dist-packages (from scikit-learn->sentence-transformers) (3.5.0)\n",
            "Requirement already satisfied: six>=1.5 in /usr/local/lib/python3.10/dist-packages (from python-dateutil>=2.8.2->pandas->datasets) (1.16.0)\n",
            "Requirement already satisfied: exceptiongroup in /usr/local/lib/python3.10/dist-packages (from anyio->httpx>=0.21.2->cohere) (1.2.1)\n",
            "Requirement already satisfied: MarkupSafe>=2.0 in /usr/local/lib/python3.10/dist-packages (from jinja2->torch>=1.11.0->sentence-transformers) (2.1.5)\n",
            "Requirement already satisfied: mpmath<1.4.0,>=1.1.0 in /usr/local/lib/python3.10/dist-packages (from sympy->torch>=1.11.0->sentence-transformers) (1.3.0)\n"
          ]
        }
      ]
    },
    {
      "cell_type": "code",
      "source": [
        "!pip install pinecone-client"
      ],
      "metadata": {
        "colab": {
          "base_uri": "https://localhost:8080/"
        },
        "id": "H5GoBD8NdkAg",
        "outputId": "c2dccf3a-9177-4f0a-8f53-1ff6a8dd141b"
      },
      "id": "H5GoBD8NdkAg",
      "execution_count": 301,
      "outputs": [
        {
          "output_type": "stream",
          "name": "stdout",
          "text": [
            "Requirement already satisfied: pinecone-client in /usr/local/lib/python3.10/dist-packages (4.1.1)\n",
            "Requirement already satisfied: certifi>=2019.11.17 in /usr/local/lib/python3.10/dist-packages (from pinecone-client) (2024.6.2)\n",
            "Requirement already satisfied: pinecone-plugin-interface<0.0.8,>=0.0.7 in /usr/local/lib/python3.10/dist-packages (from pinecone-client) (0.0.7)\n",
            "Requirement already satisfied: tqdm>=4.64.1 in /usr/local/lib/python3.10/dist-packages (from pinecone-client) (4.66.4)\n",
            "Requirement already satisfied: typing-extensions>=3.7.4 in /usr/local/lib/python3.10/dist-packages (from pinecone-client) (4.12.2)\n",
            "Requirement already satisfied: urllib3>=1.26.0 in /usr/local/lib/python3.10/dist-packages (from pinecone-client) (2.0.7)\n"
          ]
        }
      ]
    },
    {
      "cell_type": "code",
      "execution_count": 302,
      "id": "dd27c087",
      "metadata": {
        "id": "dd27c087"
      },
      "outputs": [],
      "source": [
        "from sentence_transformers import SentenceTransformer\n",
        "from datasets import load_dataset\n",
        "from pinecone import Pinecone, ServerlessSpec\n",
        "import os\n",
        "from tqdm import tqdm\n",
        "import cohere\n",
        "import numpy as np\n",
        "import warnings\n",
        "from IPython.display import display"
      ]
    },
    {
      "cell_type": "markdown",
      "id": "920b3551",
      "metadata": {
        "id": "920b3551"
      },
      "source": [
        "##### First things first - APIs"
      ]
    },
    {
      "cell_type": "code",
      "execution_count": 303,
      "id": "33e6f5b3",
      "metadata": {
        "id": "33e6f5b3"
      },
      "outputs": [],
      "source": [
        "with open(\"chohere_api_key.txt\") as f:\n",
        "    COHERE_API_KEY = f.read().strip()\n",
        "with open(\"pinecone_api_key.txt\") as f:\n",
        "    PINECONE_API_KEY = f.read().strip()"
      ]
    },
    {
      "cell_type": "markdown",
      "id": "bb480280",
      "metadata": {
        "id": "bb480280"
      },
      "source": [
        "## First Element - Embedding Model"
      ]
    },
    {
      "cell_type": "code",
      "execution_count": 304,
      "id": "9d558650",
      "metadata": {
        "id": "9d558650"
      },
      "outputs": [],
      "source": [
        "from sentence_transformers import SentenceTransformer\n",
        "\n",
        "EMBEDDING_MODEL = 'all-MiniLM-L6-v2'\n",
        "model = SentenceTransformer(EMBEDDING_MODEL)"
      ]
    },
    {
      "cell_type": "markdown",
      "id": "d0794884",
      "metadata": {
        "id": "d0794884"
      },
      "source": [
        "More models can be found [here](https://huggingface.co/models?pipeline_tag=sentence-similarity&sort=trending)"
      ]
    },
    {
      "cell_type": "code",
      "source": [
        "def chunk_text(text, chunk_size=100, overlap=10):\n",
        "    words = text.split()\n",
        "    chunks = []\n",
        "    for i in range(0, len(words), chunk_size - overlap):\n",
        "        if i + chunk_size > len(words):\n",
        "            if chunks:\n",
        "                break\n",
        "        chunk = words[i:i + chunk_size]\n",
        "        chunks.append(' '.join(chunk))\n",
        "    return chunks"
      ],
      "metadata": {
        "id": "UIsZjsnivoXa"
      },
      "id": "UIsZjsnivoXa",
      "execution_count": 305,
      "outputs": []
    },
    {
      "cell_type": "code",
      "execution_count": 306,
      "id": "25de8986",
      "metadata": {
        "id": "25de8986"
      },
      "outputs": [],
      "source": [
        "def load_and_embedd_dataset(\n",
        "        dataset_name: str = 'RealTimeData/News_August_2023',\n",
        "        split: str = 'train',\n",
        "        model: SentenceTransformer = SentenceTransformer('all-MiniLM-L6-v2'),\n",
        "        text_field: str = 'description',\n",
        "        rec_num: int = 50\n",
        ") -> tuple:\n",
        "    \"\"\"\n",
        "    Load a dataset and embedd the text field using a sentence-transformer model\n",
        "    Args:\n",
        "        dataset_name: The name of the dataset to load\n",
        "        split: The split of the dataset to load\n",
        "        model: The model to use for embedding\n",
        "        text_field: The field in the dataset that contains the text\n",
        "        rec_num: The number of records to load and embedd\n",
        "    Returns:\n",
        "        tuple: A tuple containing the dataset and the embeddings\n",
        "    \"\"\"\n",
        "    from datasets import load_dataset\n",
        "\n",
        "    print(\"Loading and embedding the dataset\")\n",
        "\n",
        "    # Load the dataset\n",
        "    dataset = load_dataset(dataset_name, split=split)\n",
        "    chunked_contexts = []\n",
        "    for context in dataset[text_field][:rec_num]:\n",
        "        chunked = chunk_text(context)\n",
        "        for chunk in chunked:\n",
        "            chunked_contexts.append(chunk)\n",
        "    # Embed the first `rec_num` rows of the dataset\n",
        "    embeddings = model.encode(chunked_contexts)\n",
        "\n",
        "    print(\"Done!\")\n",
        "    return dataset, embeddings"
      ]
    },
    {
      "cell_type": "code",
      "execution_count": 307,
      "id": "3bff82e2",
      "metadata": {
        "colab": {
          "base_uri": "https://localhost:8080/"
        },
        "id": "3bff82e2",
        "outputId": "b0714ed0-0816-4d3b-b2e8-e52b4ad85935"
      },
      "outputs": [
        {
          "output_type": "stream",
          "name": "stdout",
          "text": [
            "Loading and embedding the dataset\n",
            "Done!\n"
          ]
        }
      ],
      "source": [
        "DATASET_NAME = 'RealTimeData/News_August_2023'\n",
        "\n",
        "dataset, embeddings = load_and_embedd_dataset(\n",
        "    dataset_name=DATASET_NAME,\n",
        "    rec_num=50,\n",
        "    model=model,\n",
        ")\n",
        "shape = embeddings.shape"
      ]
    },
    {
      "cell_type": "markdown",
      "id": "6da76959",
      "metadata": {
        "id": "6da76959"
      },
      "source": [
        "Lets us look at the dataset and the embeddings"
      ]
    },
    {
      "cell_type": "code",
      "execution_count": 308,
      "id": "ac3f8e6c",
      "metadata": {
        "colab": {
          "base_uri": "https://localhost:8080/",
          "height": 1000
        },
        "id": "ac3f8e6c",
        "outputId": "31d82cbd-181b-4ceb-c289-12cb7a75d2ce"
      },
      "outputs": [
        {
          "output_type": "execute_result",
          "data": {
            "text/plain": [
              "                              authors              date_download date_modify  \\\n",
              "0                                  []  2023-08-01 01:20:55+00:00           _   \n",
              "1                                  []  2023-08-01 01:20:06+00:00           _   \n",
              "2                                  []  2023-08-01 01:20:19+00:00           _   \n",
              "3                                  []  2023-08-01 01:20:00+00:00           _   \n",
              "4                                  []  2023-08-01 01:20:37+00:00           _   \n",
              "...                               ...                        ...         ...   \n",
              "5054  [Carrie Young, Natalie Herbick]  2023-08-01 01:26:26+00:00           _   \n",
              "5055                [Brooke Williams]  2023-08-01 01:26:20+00:00           _   \n",
              "5056            [Stephanie Whiteside]  2023-08-01 01:04:45+00:00           _   \n",
              "5057                [Brooke Williams]  2023-08-01 01:04:51+00:00           _   \n",
              "5058         [Emily Brooks, The Hill]  2023-08-01 01:04:39+00:00           _   \n",
              "\n",
              "             date_publish                                        description  \\\n",
              "0     2023-08-01 01:10:02  A consultant cardiologist at the Federal Medic...   \n",
              "1     2023-08-01 01:13:54  The Nasarawa State government is taking measur...   \n",
              "2     2023-08-01 01:07:57  Lawyers are divided over the renewed moves to ...   \n",
              "3     2023-08-01 00:37:29  D’Tigress will face the winners between Mozamb...   \n",
              "4     2023-08-01 01:11:50  Liver cancer patients are being spared overnig...   \n",
              "...                   ...                                                ...   \n",
              "5054  2023-08-01 01:01:07  She was diagnosed with stage 2B HER2-POSITIVE ...   \n",
              "5055  2023-08-01 00:19:52  Country artist Luke Bryan invited a local girl...   \n",
              "5056  2023-07-31 23:15:01  Social media has gone wild as people claim the...   \n",
              "5057  2023-08-01 00:18:40  Country artist Luke Bryan invited a local girl...   \n",
              "5058  2023-07-31 23:27:57  Democrats and Republicans are offering clashin...   \n",
              "\n",
              "                                               filename  \\\n",
              "0     https%3A%2F%2Fdailytrust.com%2Ftherapeutic-lif...   \n",
              "1     https%3A%2F%2Fdailytrust.com%2Fhow-nasarawa-go...   \n",
              "2     https%3A%2F%2Fdailytrust.com%2Fnba-conference-...   \n",
              "3     https%3A%2F%2Fdailytrust.com%2Fdtigress-to-fac...   \n",
              "4     https%3A%2F%2Fdailytrust.com%2Fradioactive-bea...   \n",
              "...                                                 ...   \n",
              "5054  https%3A%2F%2Fwww.wkbn.com%2Fnews%2Fohio%2Fbre...   \n",
              "5055  https%3A%2F%2Fwww.wkbn.com%2Fnews%2Fnational-w...   \n",
              "5056  https%3A%2F%2Ffox2now.com%2Fnews%2Fnational%2F...   \n",
              "5057  https%3A%2F%2Ffox2now.com%2Fnews%2Fnational%2F...   \n",
              "5058  https%3A%2F%2Ffox2now.com%2Fhill-politics%2Fde...   \n",
              "\n",
              "                                              image_url language localpath  \\\n",
              "0     https://dailytrust.com/wp-content/uploads/2018...       en         _   \n",
              "1     https://dailytrust.com/wp-content/uploads/2022...       en         _   \n",
              "2     https://dailytrust.com/wp-content/uploads/2022...       en         _   \n",
              "3     https://dailytrust.com/wp-content/uploads/2022...       en         _   \n",
              "4     https://dailytrust.com/wp-content/uploads/2022...       en         _   \n",
              "...                                                 ...      ...       ...   \n",
              "5054  https://www.wkbn.com/wp-content/uploads/sites/...       en         _   \n",
              "5055  https://www.wkbn.com/wp-content/uploads/sites/...       en         _   \n",
              "5056  https://fox2now.com/wp-content/uploads/sites/1...       en         _   \n",
              "5057  https://fox2now.com/wp-content/uploads/sites/1...       en         _   \n",
              "5058  https://fox2now.com/wp-content/uploads/sites/1...       en         _   \n",
              "\n",
              "                                               maintext   source_domain  \\\n",
              "0     A consultant cardiologist at the Federal Medic...  dailytrust.com   \n",
              "1     The Nasarawa State government is taking measur...  dailytrust.com   \n",
              "2     Lawyers are divided over the renewed moves to ...  dailytrust.com   \n",
              "3     D’Tigress will face the winners between Mozamb...  dailytrust.com   \n",
              "4     Liver cancer patients are being spared overnig...  dailytrust.com   \n",
              "...                                                 ...             ...   \n",
              "5054  CLEVELAND (WJW) – Lesley Kiraly Hosta was just...    www.wkbn.com   \n",
              "5055  DENVER (KDVR) — Country artist Luke Bryan invi...    www.wkbn.com   \n",
              "5056  (NewsNation) — As in decades past, the questio...     fox2now.com   \n",
              "5057  DENVER (KDVR) — Country artist Luke Bryan invi...     fox2now.com   \n",
              "5058  Democrats and Republicans are offering clashin...     fox2now.com   \n",
              "\n",
              "                                                  title title_page title_rss  \\\n",
              "0     ‘Therapeutic lifestyle modification’ lowers ri...          _         _   \n",
              "1     How Nasarawa govt is responding to diphtheria ...          _         _   \n",
              "2     NBA Conference: Lawyers divided over parallel ...          _         _   \n",
              "3     D’Tigress to face Mozambique or Cote d’Ivoire ...          _         _   \n",
              "4     Radioactive beads in the wrist that can fight ...          _         _   \n",
              "...                                                 ...        ...       ...   \n",
              "5054  Breast cancer survivor says research, newer dr...          _         _   \n",
              "5055  Child with cancer gets invited back stage to L...          _         _   \n",
              "5056           Did the government confirm aliens exist?          _         _   \n",
              "5057  Child with cancer gets invited back stage to L...          _         _   \n",
              "5058  Devon Archer debate focuses on Hunter Biden ‘i...          _         _   \n",
              "\n",
              "                                                    url  \n",
              "0     https://dailytrust.com/therapeutic-lifestyle-m...  \n",
              "1     https://dailytrust.com/how-nasarawa-govt-is-re...  \n",
              "2     https://dailytrust.com/nba-conference-lawyers-...  \n",
              "3     https://dailytrust.com/dtigress-to-face-mozamb...  \n",
              "4     https://dailytrust.com/radioactive-beads-in-th...  \n",
              "...                                                 ...  \n",
              "5054  https://www.wkbn.com/news/ohio/breast-cancer-s...  \n",
              "5055  https://www.wkbn.com/news/national-world/luke-...  \n",
              "5056  https://fox2now.com/news/national/did-the-gove...  \n",
              "5057  https://fox2now.com/news/national/luke-bryan-i...  \n",
              "5058  https://fox2now.com/hill-politics/devon-archer...  \n",
              "\n",
              "[5059 rows x 15 columns]"
            ],
            "text/html": [
              "\n",
              "  <div id=\"df-7cd3d9ad-6d41-49cb-9715-9e9af0dd7250\" class=\"colab-df-container\">\n",
              "    <div>\n",
              "<style scoped>\n",
              "    .dataframe tbody tr th:only-of-type {\n",
              "        vertical-align: middle;\n",
              "    }\n",
              "\n",
              "    .dataframe tbody tr th {\n",
              "        vertical-align: top;\n",
              "    }\n",
              "\n",
              "    .dataframe thead th {\n",
              "        text-align: right;\n",
              "    }\n",
              "</style>\n",
              "<table border=\"1\" class=\"dataframe\">\n",
              "  <thead>\n",
              "    <tr style=\"text-align: right;\">\n",
              "      <th></th>\n",
              "      <th>authors</th>\n",
              "      <th>date_download</th>\n",
              "      <th>date_modify</th>\n",
              "      <th>date_publish</th>\n",
              "      <th>description</th>\n",
              "      <th>filename</th>\n",
              "      <th>image_url</th>\n",
              "      <th>language</th>\n",
              "      <th>localpath</th>\n",
              "      <th>maintext</th>\n",
              "      <th>source_domain</th>\n",
              "      <th>title</th>\n",
              "      <th>title_page</th>\n",
              "      <th>title_rss</th>\n",
              "      <th>url</th>\n",
              "    </tr>\n",
              "  </thead>\n",
              "  <tbody>\n",
              "    <tr>\n",
              "      <th>0</th>\n",
              "      <td>[]</td>\n",
              "      <td>2023-08-01 01:20:55+00:00</td>\n",
              "      <td>_</td>\n",
              "      <td>2023-08-01 01:10:02</td>\n",
              "      <td>A consultant cardiologist at the Federal Medic...</td>\n",
              "      <td>https%3A%2F%2Fdailytrust.com%2Ftherapeutic-lif...</td>\n",
              "      <td>https://dailytrust.com/wp-content/uploads/2018...</td>\n",
              "      <td>en</td>\n",
              "      <td>_</td>\n",
              "      <td>A consultant cardiologist at the Federal Medic...</td>\n",
              "      <td>dailytrust.com</td>\n",
              "      <td>‘Therapeutic lifestyle modification’ lowers ri...</td>\n",
              "      <td>_</td>\n",
              "      <td>_</td>\n",
              "      <td>https://dailytrust.com/therapeutic-lifestyle-m...</td>\n",
              "    </tr>\n",
              "    <tr>\n",
              "      <th>1</th>\n",
              "      <td>[]</td>\n",
              "      <td>2023-08-01 01:20:06+00:00</td>\n",
              "      <td>_</td>\n",
              "      <td>2023-08-01 01:13:54</td>\n",
              "      <td>The Nasarawa State government is taking measur...</td>\n",
              "      <td>https%3A%2F%2Fdailytrust.com%2Fhow-nasarawa-go...</td>\n",
              "      <td>https://dailytrust.com/wp-content/uploads/2022...</td>\n",
              "      <td>en</td>\n",
              "      <td>_</td>\n",
              "      <td>The Nasarawa State government is taking measur...</td>\n",
              "      <td>dailytrust.com</td>\n",
              "      <td>How Nasarawa govt is responding to diphtheria ...</td>\n",
              "      <td>_</td>\n",
              "      <td>_</td>\n",
              "      <td>https://dailytrust.com/how-nasarawa-govt-is-re...</td>\n",
              "    </tr>\n",
              "    <tr>\n",
              "      <th>2</th>\n",
              "      <td>[]</td>\n",
              "      <td>2023-08-01 01:20:19+00:00</td>\n",
              "      <td>_</td>\n",
              "      <td>2023-08-01 01:07:57</td>\n",
              "      <td>Lawyers are divided over the renewed moves to ...</td>\n",
              "      <td>https%3A%2F%2Fdailytrust.com%2Fnba-conference-...</td>\n",
              "      <td>https://dailytrust.com/wp-content/uploads/2022...</td>\n",
              "      <td>en</td>\n",
              "      <td>_</td>\n",
              "      <td>Lawyers are divided over the renewed moves to ...</td>\n",
              "      <td>dailytrust.com</td>\n",
              "      <td>NBA Conference: Lawyers divided over parallel ...</td>\n",
              "      <td>_</td>\n",
              "      <td>_</td>\n",
              "      <td>https://dailytrust.com/nba-conference-lawyers-...</td>\n",
              "    </tr>\n",
              "    <tr>\n",
              "      <th>3</th>\n",
              "      <td>[]</td>\n",
              "      <td>2023-08-01 01:20:00+00:00</td>\n",
              "      <td>_</td>\n",
              "      <td>2023-08-01 00:37:29</td>\n",
              "      <td>D’Tigress will face the winners between Mozamb...</td>\n",
              "      <td>https%3A%2F%2Fdailytrust.com%2Fdtigress-to-fac...</td>\n",
              "      <td>https://dailytrust.com/wp-content/uploads/2022...</td>\n",
              "      <td>en</td>\n",
              "      <td>_</td>\n",
              "      <td>D’Tigress will face the winners between Mozamb...</td>\n",
              "      <td>dailytrust.com</td>\n",
              "      <td>D’Tigress to face Mozambique or Cote d’Ivoire ...</td>\n",
              "      <td>_</td>\n",
              "      <td>_</td>\n",
              "      <td>https://dailytrust.com/dtigress-to-face-mozamb...</td>\n",
              "    </tr>\n",
              "    <tr>\n",
              "      <th>4</th>\n",
              "      <td>[]</td>\n",
              "      <td>2023-08-01 01:20:37+00:00</td>\n",
              "      <td>_</td>\n",
              "      <td>2023-08-01 01:11:50</td>\n",
              "      <td>Liver cancer patients are being spared overnig...</td>\n",
              "      <td>https%3A%2F%2Fdailytrust.com%2Fradioactive-bea...</td>\n",
              "      <td>https://dailytrust.com/wp-content/uploads/2022...</td>\n",
              "      <td>en</td>\n",
              "      <td>_</td>\n",
              "      <td>Liver cancer patients are being spared overnig...</td>\n",
              "      <td>dailytrust.com</td>\n",
              "      <td>Radioactive beads in the wrist that can fight ...</td>\n",
              "      <td>_</td>\n",
              "      <td>_</td>\n",
              "      <td>https://dailytrust.com/radioactive-beads-in-th...</td>\n",
              "    </tr>\n",
              "    <tr>\n",
              "      <th>...</th>\n",
              "      <td>...</td>\n",
              "      <td>...</td>\n",
              "      <td>...</td>\n",
              "      <td>...</td>\n",
              "      <td>...</td>\n",
              "      <td>...</td>\n",
              "      <td>...</td>\n",
              "      <td>...</td>\n",
              "      <td>...</td>\n",
              "      <td>...</td>\n",
              "      <td>...</td>\n",
              "      <td>...</td>\n",
              "      <td>...</td>\n",
              "      <td>...</td>\n",
              "      <td>...</td>\n",
              "    </tr>\n",
              "    <tr>\n",
              "      <th>5054</th>\n",
              "      <td>[Carrie Young, Natalie Herbick]</td>\n",
              "      <td>2023-08-01 01:26:26+00:00</td>\n",
              "      <td>_</td>\n",
              "      <td>2023-08-01 01:01:07</td>\n",
              "      <td>She was diagnosed with stage 2B HER2-POSITIVE ...</td>\n",
              "      <td>https%3A%2F%2Fwww.wkbn.com%2Fnews%2Fohio%2Fbre...</td>\n",
              "      <td>https://www.wkbn.com/wp-content/uploads/sites/...</td>\n",
              "      <td>en</td>\n",
              "      <td>_</td>\n",
              "      <td>CLEVELAND (WJW) – Lesley Kiraly Hosta was just...</td>\n",
              "      <td>www.wkbn.com</td>\n",
              "      <td>Breast cancer survivor says research, newer dr...</td>\n",
              "      <td>_</td>\n",
              "      <td>_</td>\n",
              "      <td>https://www.wkbn.com/news/ohio/breast-cancer-s...</td>\n",
              "    </tr>\n",
              "    <tr>\n",
              "      <th>5055</th>\n",
              "      <td>[Brooke Williams]</td>\n",
              "      <td>2023-08-01 01:26:20+00:00</td>\n",
              "      <td>_</td>\n",
              "      <td>2023-08-01 00:19:52</td>\n",
              "      <td>Country artist Luke Bryan invited a local girl...</td>\n",
              "      <td>https%3A%2F%2Fwww.wkbn.com%2Fnews%2Fnational-w...</td>\n",
              "      <td>https://www.wkbn.com/wp-content/uploads/sites/...</td>\n",
              "      <td>en</td>\n",
              "      <td>_</td>\n",
              "      <td>DENVER (KDVR) — Country artist Luke Bryan invi...</td>\n",
              "      <td>www.wkbn.com</td>\n",
              "      <td>Child with cancer gets invited back stage to L...</td>\n",
              "      <td>_</td>\n",
              "      <td>_</td>\n",
              "      <td>https://www.wkbn.com/news/national-world/luke-...</td>\n",
              "    </tr>\n",
              "    <tr>\n",
              "      <th>5056</th>\n",
              "      <td>[Stephanie Whiteside]</td>\n",
              "      <td>2023-08-01 01:04:45+00:00</td>\n",
              "      <td>_</td>\n",
              "      <td>2023-07-31 23:15:01</td>\n",
              "      <td>Social media has gone wild as people claim the...</td>\n",
              "      <td>https%3A%2F%2Ffox2now.com%2Fnews%2Fnational%2F...</td>\n",
              "      <td>https://fox2now.com/wp-content/uploads/sites/1...</td>\n",
              "      <td>en</td>\n",
              "      <td>_</td>\n",
              "      <td>(NewsNation) — As in decades past, the questio...</td>\n",
              "      <td>fox2now.com</td>\n",
              "      <td>Did the government confirm aliens exist?</td>\n",
              "      <td>_</td>\n",
              "      <td>_</td>\n",
              "      <td>https://fox2now.com/news/national/did-the-gove...</td>\n",
              "    </tr>\n",
              "    <tr>\n",
              "      <th>5057</th>\n",
              "      <td>[Brooke Williams]</td>\n",
              "      <td>2023-08-01 01:04:51+00:00</td>\n",
              "      <td>_</td>\n",
              "      <td>2023-08-01 00:18:40</td>\n",
              "      <td>Country artist Luke Bryan invited a local girl...</td>\n",
              "      <td>https%3A%2F%2Ffox2now.com%2Fnews%2Fnational%2F...</td>\n",
              "      <td>https://fox2now.com/wp-content/uploads/sites/1...</td>\n",
              "      <td>en</td>\n",
              "      <td>_</td>\n",
              "      <td>DENVER (KDVR) — Country artist Luke Bryan invi...</td>\n",
              "      <td>fox2now.com</td>\n",
              "      <td>Child with cancer gets invited back stage to L...</td>\n",
              "      <td>_</td>\n",
              "      <td>_</td>\n",
              "      <td>https://fox2now.com/news/national/luke-bryan-i...</td>\n",
              "    </tr>\n",
              "    <tr>\n",
              "      <th>5058</th>\n",
              "      <td>[Emily Brooks, The Hill]</td>\n",
              "      <td>2023-08-01 01:04:39+00:00</td>\n",
              "      <td>_</td>\n",
              "      <td>2023-07-31 23:27:57</td>\n",
              "      <td>Democrats and Republicans are offering clashin...</td>\n",
              "      <td>https%3A%2F%2Ffox2now.com%2Fhill-politics%2Fde...</td>\n",
              "      <td>https://fox2now.com/wp-content/uploads/sites/1...</td>\n",
              "      <td>en</td>\n",
              "      <td>_</td>\n",
              "      <td>Democrats and Republicans are offering clashin...</td>\n",
              "      <td>fox2now.com</td>\n",
              "      <td>Devon Archer debate focuses on Hunter Biden ‘i...</td>\n",
              "      <td>_</td>\n",
              "      <td>_</td>\n",
              "      <td>https://fox2now.com/hill-politics/devon-archer...</td>\n",
              "    </tr>\n",
              "  </tbody>\n",
              "</table>\n",
              "<p>5059 rows × 15 columns</p>\n",
              "</div>\n",
              "    <div class=\"colab-df-buttons\">\n",
              "\n",
              "  <div class=\"colab-df-container\">\n",
              "    <button class=\"colab-df-convert\" onclick=\"convertToInteractive('df-7cd3d9ad-6d41-49cb-9715-9e9af0dd7250')\"\n",
              "            title=\"Convert this dataframe to an interactive table.\"\n",
              "            style=\"display:none;\">\n",
              "\n",
              "  <svg xmlns=\"http://www.w3.org/2000/svg\" height=\"24px\" viewBox=\"0 -960 960 960\">\n",
              "    <path d=\"M120-120v-720h720v720H120Zm60-500h600v-160H180v160Zm220 220h160v-160H400v160Zm0 220h160v-160H400v160ZM180-400h160v-160H180v160Zm440 0h160v-160H620v160ZM180-180h160v-160H180v160Zm440 0h160v-160H620v160Z\"/>\n",
              "  </svg>\n",
              "    </button>\n",
              "\n",
              "  <style>\n",
              "    .colab-df-container {\n",
              "      display:flex;\n",
              "      gap: 12px;\n",
              "    }\n",
              "\n",
              "    .colab-df-convert {\n",
              "      background-color: #E8F0FE;\n",
              "      border: none;\n",
              "      border-radius: 50%;\n",
              "      cursor: pointer;\n",
              "      display: none;\n",
              "      fill: #1967D2;\n",
              "      height: 32px;\n",
              "      padding: 0 0 0 0;\n",
              "      width: 32px;\n",
              "    }\n",
              "\n",
              "    .colab-df-convert:hover {\n",
              "      background-color: #E2EBFA;\n",
              "      box-shadow: 0px 1px 2px rgba(60, 64, 67, 0.3), 0px 1px 3px 1px rgba(60, 64, 67, 0.15);\n",
              "      fill: #174EA6;\n",
              "    }\n",
              "\n",
              "    .colab-df-buttons div {\n",
              "      margin-bottom: 4px;\n",
              "    }\n",
              "\n",
              "    [theme=dark] .colab-df-convert {\n",
              "      background-color: #3B4455;\n",
              "      fill: #D2E3FC;\n",
              "    }\n",
              "\n",
              "    [theme=dark] .colab-df-convert:hover {\n",
              "      background-color: #434B5C;\n",
              "      box-shadow: 0px 1px 3px 1px rgba(0, 0, 0, 0.15);\n",
              "      filter: drop-shadow(0px 1px 2px rgba(0, 0, 0, 0.3));\n",
              "      fill: #FFFFFF;\n",
              "    }\n",
              "  </style>\n",
              "\n",
              "    <script>\n",
              "      const buttonEl =\n",
              "        document.querySelector('#df-7cd3d9ad-6d41-49cb-9715-9e9af0dd7250 button.colab-df-convert');\n",
              "      buttonEl.style.display =\n",
              "        google.colab.kernel.accessAllowed ? 'block' : 'none';\n",
              "\n",
              "      async function convertToInteractive(key) {\n",
              "        const element = document.querySelector('#df-7cd3d9ad-6d41-49cb-9715-9e9af0dd7250');\n",
              "        const dataTable =\n",
              "          await google.colab.kernel.invokeFunction('convertToInteractive',\n",
              "                                                    [key], {});\n",
              "        if (!dataTable) return;\n",
              "\n",
              "        const docLinkHtml = 'Like what you see? Visit the ' +\n",
              "          '<a target=\"_blank\" href=https://colab.research.google.com/notebooks/data_table.ipynb>data table notebook</a>'\n",
              "          + ' to learn more about interactive tables.';\n",
              "        element.innerHTML = '';\n",
              "        dataTable['output_type'] = 'display_data';\n",
              "        await google.colab.output.renderOutput(dataTable, element);\n",
              "        const docLink = document.createElement('div');\n",
              "        docLink.innerHTML = docLinkHtml;\n",
              "        element.appendChild(docLink);\n",
              "      }\n",
              "    </script>\n",
              "  </div>\n",
              "\n",
              "\n",
              "<div id=\"df-d5b8a21d-82fe-4ac3-a367-973ee8c65783\">\n",
              "  <button class=\"colab-df-quickchart\" onclick=\"quickchart('df-d5b8a21d-82fe-4ac3-a367-973ee8c65783')\"\n",
              "            title=\"Suggest charts\"\n",
              "            style=\"display:none;\">\n",
              "\n",
              "<svg xmlns=\"http://www.w3.org/2000/svg\" height=\"24px\"viewBox=\"0 0 24 24\"\n",
              "     width=\"24px\">\n",
              "    <g>\n",
              "        <path d=\"M19 3H5c-1.1 0-2 .9-2 2v14c0 1.1.9 2 2 2h14c1.1 0 2-.9 2-2V5c0-1.1-.9-2-2-2zM9 17H7v-7h2v7zm4 0h-2V7h2v10zm4 0h-2v-4h2v4z\"/>\n",
              "    </g>\n",
              "</svg>\n",
              "  </button>\n",
              "\n",
              "<style>\n",
              "  .colab-df-quickchart {\n",
              "      --bg-color: #E8F0FE;\n",
              "      --fill-color: #1967D2;\n",
              "      --hover-bg-color: #E2EBFA;\n",
              "      --hover-fill-color: #174EA6;\n",
              "      --disabled-fill-color: #AAA;\n",
              "      --disabled-bg-color: #DDD;\n",
              "  }\n",
              "\n",
              "  [theme=dark] .colab-df-quickchart {\n",
              "      --bg-color: #3B4455;\n",
              "      --fill-color: #D2E3FC;\n",
              "      --hover-bg-color: #434B5C;\n",
              "      --hover-fill-color: #FFFFFF;\n",
              "      --disabled-bg-color: #3B4455;\n",
              "      --disabled-fill-color: #666;\n",
              "  }\n",
              "\n",
              "  .colab-df-quickchart {\n",
              "    background-color: var(--bg-color);\n",
              "    border: none;\n",
              "    border-radius: 50%;\n",
              "    cursor: pointer;\n",
              "    display: none;\n",
              "    fill: var(--fill-color);\n",
              "    height: 32px;\n",
              "    padding: 0;\n",
              "    width: 32px;\n",
              "  }\n",
              "\n",
              "  .colab-df-quickchart:hover {\n",
              "    background-color: var(--hover-bg-color);\n",
              "    box-shadow: 0 1px 2px rgba(60, 64, 67, 0.3), 0 1px 3px 1px rgba(60, 64, 67, 0.15);\n",
              "    fill: var(--button-hover-fill-color);\n",
              "  }\n",
              "\n",
              "  .colab-df-quickchart-complete:disabled,\n",
              "  .colab-df-quickchart-complete:disabled:hover {\n",
              "    background-color: var(--disabled-bg-color);\n",
              "    fill: var(--disabled-fill-color);\n",
              "    box-shadow: none;\n",
              "  }\n",
              "\n",
              "  .colab-df-spinner {\n",
              "    border: 2px solid var(--fill-color);\n",
              "    border-color: transparent;\n",
              "    border-bottom-color: var(--fill-color);\n",
              "    animation:\n",
              "      spin 1s steps(1) infinite;\n",
              "  }\n",
              "\n",
              "  @keyframes spin {\n",
              "    0% {\n",
              "      border-color: transparent;\n",
              "      border-bottom-color: var(--fill-color);\n",
              "      border-left-color: var(--fill-color);\n",
              "    }\n",
              "    20% {\n",
              "      border-color: transparent;\n",
              "      border-left-color: var(--fill-color);\n",
              "      border-top-color: var(--fill-color);\n",
              "    }\n",
              "    30% {\n",
              "      border-color: transparent;\n",
              "      border-left-color: var(--fill-color);\n",
              "      border-top-color: var(--fill-color);\n",
              "      border-right-color: var(--fill-color);\n",
              "    }\n",
              "    40% {\n",
              "      border-color: transparent;\n",
              "      border-right-color: var(--fill-color);\n",
              "      border-top-color: var(--fill-color);\n",
              "    }\n",
              "    60% {\n",
              "      border-color: transparent;\n",
              "      border-right-color: var(--fill-color);\n",
              "    }\n",
              "    80% {\n",
              "      border-color: transparent;\n",
              "      border-right-color: var(--fill-color);\n",
              "      border-bottom-color: var(--fill-color);\n",
              "    }\n",
              "    90% {\n",
              "      border-color: transparent;\n",
              "      border-bottom-color: var(--fill-color);\n",
              "    }\n",
              "  }\n",
              "</style>\n",
              "\n",
              "  <script>\n",
              "    async function quickchart(key) {\n",
              "      const quickchartButtonEl =\n",
              "        document.querySelector('#' + key + ' button');\n",
              "      quickchartButtonEl.disabled = true;  // To prevent multiple clicks.\n",
              "      quickchartButtonEl.classList.add('colab-df-spinner');\n",
              "      try {\n",
              "        const charts = await google.colab.kernel.invokeFunction(\n",
              "            'suggestCharts', [key], {});\n",
              "      } catch (error) {\n",
              "        console.error('Error during call to suggestCharts:', error);\n",
              "      }\n",
              "      quickchartButtonEl.classList.remove('colab-df-spinner');\n",
              "      quickchartButtonEl.classList.add('colab-df-quickchart-complete');\n",
              "    }\n",
              "    (() => {\n",
              "      let quickchartButtonEl =\n",
              "        document.querySelector('#df-d5b8a21d-82fe-4ac3-a367-973ee8c65783 button');\n",
              "      quickchartButtonEl.style.display =\n",
              "        google.colab.kernel.accessAllowed ? 'block' : 'none';\n",
              "    })();\n",
              "  </script>\n",
              "</div>\n",
              "\n",
              "  <div id=\"id_bf8e8975-7fe6-4091-ae3f-4a406041b469\">\n",
              "    <style>\n",
              "      .colab-df-generate {\n",
              "        background-color: #E8F0FE;\n",
              "        border: none;\n",
              "        border-radius: 50%;\n",
              "        cursor: pointer;\n",
              "        display: none;\n",
              "        fill: #1967D2;\n",
              "        height: 32px;\n",
              "        padding: 0 0 0 0;\n",
              "        width: 32px;\n",
              "      }\n",
              "\n",
              "      .colab-df-generate:hover {\n",
              "        background-color: #E2EBFA;\n",
              "        box-shadow: 0px 1px 2px rgba(60, 64, 67, 0.3), 0px 1px 3px 1px rgba(60, 64, 67, 0.15);\n",
              "        fill: #174EA6;\n",
              "      }\n",
              "\n",
              "      [theme=dark] .colab-df-generate {\n",
              "        background-color: #3B4455;\n",
              "        fill: #D2E3FC;\n",
              "      }\n",
              "\n",
              "      [theme=dark] .colab-df-generate:hover {\n",
              "        background-color: #434B5C;\n",
              "        box-shadow: 0px 1px 3px 1px rgba(0, 0, 0, 0.15);\n",
              "        filter: drop-shadow(0px 1px 2px rgba(0, 0, 0, 0.3));\n",
              "        fill: #FFFFFF;\n",
              "      }\n",
              "    </style>\n",
              "    <button class=\"colab-df-generate\" onclick=\"generateWithVariable('pd_dataset')\"\n",
              "            title=\"Generate code using this dataframe.\"\n",
              "            style=\"display:none;\">\n",
              "\n",
              "  <svg xmlns=\"http://www.w3.org/2000/svg\" height=\"24px\"viewBox=\"0 0 24 24\"\n",
              "       width=\"24px\">\n",
              "    <path d=\"M7,19H8.4L18.45,9,17,7.55,7,17.6ZM5,21V16.75L18.45,3.32a2,2,0,0,1,2.83,0l1.4,1.43a1.91,1.91,0,0,1,.58,1.4,1.91,1.91,0,0,1-.58,1.4L9.25,21ZM18.45,9,17,7.55Zm-12,3A5.31,5.31,0,0,0,4.9,8.1,5.31,5.31,0,0,0,1,6.5,5.31,5.31,0,0,0,4.9,4.9,5.31,5.31,0,0,0,6.5,1,5.31,5.31,0,0,0,8.1,4.9,5.31,5.31,0,0,0,12,6.5,5.46,5.46,0,0,0,6.5,12Z\"/>\n",
              "  </svg>\n",
              "    </button>\n",
              "    <script>\n",
              "      (() => {\n",
              "      const buttonEl =\n",
              "        document.querySelector('#id_bf8e8975-7fe6-4091-ae3f-4a406041b469 button.colab-df-generate');\n",
              "      buttonEl.style.display =\n",
              "        google.colab.kernel.accessAllowed ? 'block' : 'none';\n",
              "\n",
              "      buttonEl.onclick = () => {\n",
              "        google.colab.notebook.generateWithVariable('pd_dataset');\n",
              "      }\n",
              "      })();\n",
              "    </script>\n",
              "  </div>\n",
              "\n",
              "    </div>\n",
              "  </div>\n"
            ],
            "application/vnd.google.colaboratory.intrinsic+json": {
              "type": "dataframe",
              "variable_name": "pd_dataset",
              "summary": "{\n  \"name\": \"pd_dataset\",\n  \"rows\": 5059,\n  \"fields\": [\n    {\n      \"column\": \"authors\",\n      \"properties\": {\n        \"dtype\": \"object\",\n        \"semantic_type\": \"\",\n        \"description\": \"\"\n      }\n    },\n    {\n      \"column\": \"date_download\",\n      \"properties\": {\n        \"dtype\": \"object\",\n        \"num_unique_values\": 2105,\n        \"samples\": [\n          \"2023-08-01 01:23:16+00:00\",\n          \"2023-08-01 00:46:29+00:00\",\n          \"2023-08-01 01:30:40+00:00\"\n        ],\n        \"semantic_type\": \"\",\n        \"description\": \"\"\n      }\n    },\n    {\n      \"column\": \"date_modify\",\n      \"properties\": {\n        \"dtype\": \"category\",\n        \"num_unique_values\": 1,\n        \"samples\": [\n          \"_\"\n        ],\n        \"semantic_type\": \"\",\n        \"description\": \"\"\n      }\n    },\n    {\n      \"column\": \"date_publish\",\n      \"properties\": {\n        \"dtype\": \"object\",\n        \"num_unique_values\": 2958,\n        \"samples\": [\n          \"2023-08-01 01:12:38\"\n        ],\n        \"semantic_type\": \"\",\n        \"description\": \"\"\n      }\n    },\n    {\n      \"column\": \"description\",\n      \"properties\": {\n        \"dtype\": \"string\",\n        \"num_unique_values\": 3178,\n        \"samples\": [\n          \"See the official race results for the CL horse race at Kochi on 29/07/2023.\"\n        ],\n        \"semantic_type\": \"\",\n        \"description\": \"\"\n      }\n    },\n    {\n      \"column\": \"filename\",\n      \"properties\": {\n        \"dtype\": \"string\",\n        \"num_unique_values\": 5059,\n        \"samples\": [\n          \"https%3A%2F%2Fwww.kgns.tv%2Fprnewswire%2F2023%2F07%2F31%2Ffibra-prologis-announces-change-its-technical-committee%2F.json\"\n        ],\n        \"semantic_type\": \"\",\n        \"description\": \"\"\n      }\n    },\n    {\n      \"column\": \"image_url\",\n      \"properties\": {\n        \"dtype\": \"string\",\n        \"num_unique_values\": 4260,\n        \"samples\": [\n          \"https://i0.wp.com/houstonherald.com/wp-content/uploads/2023/06/Reader-1.jpg?fit=1200%2C675&ssl=1\"\n        ],\n        \"semantic_type\": \"\",\n        \"description\": \"\"\n      }\n    },\n    {\n      \"column\": \"language\",\n      \"properties\": {\n        \"dtype\": \"category\",\n        \"num_unique_values\": 1,\n        \"samples\": [\n          \"en\"\n        ],\n        \"semantic_type\": \"\",\n        \"description\": \"\"\n      }\n    },\n    {\n      \"column\": \"localpath\",\n      \"properties\": {\n        \"dtype\": \"category\",\n        \"num_unique_values\": 1,\n        \"samples\": [\n          \"_\"\n        ],\n        \"semantic_type\": \"\",\n        \"description\": \"\"\n      }\n    },\n    {\n      \"column\": \"maintext\",\n      \"properties\": {\n        \"dtype\": \"string\",\n        \"num_unique_values\": 3305,\n        \"samples\": [\n          \"Jason Aldean\\u2019s \\u201cTry That in a Small Town\\u201d has officially topped the Billboard Hot 100. On Monday (July 31), the controversial song hit No. 1 on the all-genre chart, rising one spot from the week before. This marks Aldean\\u2019s first No. 1 on the chart. His previous highest charting song on the Hot 100 was \\u201cDirt Road Road Anthem,\\u201d which reached No. 7 in 2011.\\nVideos by American Songwriter\\nMorgan Wallen is at No. 2 with \\u201cLast Night\\u201d while Luke Combs\\u2019 cover of Tracy Chapman\\u2019s \\u201cFast Car\\u201d is at No. 3, making history as the first time that country artists have claimed the Top 3 spots since the Hot 100 launched in 1958, according to the publication.\\nAldean\\u2019s ascent to the top of the chart comes in the wake of polarizing reactions to \\u201cTry That in a Small Town.\\u201d Initially released in May 2023, \\u201cTry That in a Small Town\\u201d rose to national attention following the release of the music video on July 14 that featured clips from Black Lives Matter protests. The video also drew ire for the fact that Aldean is seen singing in front of a courthouse in Columbia, Tennessee, which was the site of a lynching of a Black man in 1927.\\n[RELATED: Production Company Behind Jason Aldean\\u2019s \\u201cTry That in a Small Town\\u201d Responds to Controversy]\\n\\u201cIn the past 24 hours I have been accused of releasing a pro-lynching song (a song that has been out since May) and was subject to the comparison that I (direct quote) was not too pleased with the nationwide BLM protests,\\u201d Aldean said in a statement. \\u201cThese references are not only meritless, but dangerous. There is not a single lyric in the song that references race or points to it \\u2014 and there isn\\u2019t a single video clip that isn\\u2019t real news footage \\u2014 and while I can try and respect others to have their own interpretation of a song with music, this one goes too far.\\u201d\\nCMT pulled the video from rotation in response to the backlash. One week after the release of the video, an updated version was released that removed six seconds of footage from Black Lives Matter protests. A representative from Aldean\\u2019s label, BBR Music Group, confirmed that the video footage was edited due to third party copyright clearance issues.\\nWallen has also been a polarizing figure since he was caught on video using the N-word in February 2021 which led to him being temporarily suspended from his record label and radio stations taking his songs out of rotation, among other repercussions. Similar to Aldean, the backlash against Wallen seemed to fuel his career, as his 2021 album, Dangerous, became the best-selling album of the year.\\nMeanwhile, Combs\\u2019 cover of \\u201cFast Car\\u201d makes Chapman the first sole Black female songwriter to have a No. 1 on the country charts.\\nPhoto by Joshua Applegate/Getty Images\"\n        ],\n        \"semantic_type\": \"\",\n        \"description\": \"\"\n      }\n    },\n    {\n      \"column\": \"source_domain\",\n      \"properties\": {\n        \"dtype\": \"category\",\n        \"num_unique_values\": 780,\n        \"samples\": [\n          \"edmonton.ctvnews.ca\"\n        ],\n        \"semantic_type\": \"\",\n        \"description\": \"\"\n      }\n    },\n    {\n      \"column\": \"title\",\n      \"properties\": {\n        \"dtype\": \"string\",\n        \"num_unique_values\": 3533,\n        \"samples\": [\n          \"Seeking Open Class Entries\"\n        ],\n        \"semantic_type\": \"\",\n        \"description\": \"\"\n      }\n    },\n    {\n      \"column\": \"title_page\",\n      \"properties\": {\n        \"dtype\": \"category\",\n        \"num_unique_values\": 1,\n        \"samples\": [\n          \"_\"\n        ],\n        \"semantic_type\": \"\",\n        \"description\": \"\"\n      }\n    },\n    {\n      \"column\": \"title_rss\",\n      \"properties\": {\n        \"dtype\": \"category\",\n        \"num_unique_values\": 1,\n        \"samples\": [\n          \"_\"\n        ],\n        \"semantic_type\": \"\",\n        \"description\": \"\"\n      }\n    },\n    {\n      \"column\": \"url\",\n      \"properties\": {\n        \"dtype\": \"string\",\n        \"num_unique_values\": 5059,\n        \"samples\": [\n          \"https://www.kgns.tv/prnewswire/2023/07/31/fibra-prologis-announces-change-its-technical-committee/\"\n        ],\n        \"semantic_type\": \"\",\n        \"description\": \"\"\n      }\n    }\n  ]\n}"
            }
          },
          "metadata": {},
          "execution_count": 308
        }
      ],
      "source": [
        "pd_dataset = dataset.to_pandas()\n",
        "pd_dataset"
      ]
    },
    {
      "cell_type": "code",
      "execution_count": 309,
      "id": "8f1e83d2",
      "metadata": {
        "colab": {
          "base_uri": "https://localhost:8080/"
        },
        "id": "8f1e83d2",
        "outputId": "7af6b552-cd28-4d64-9183-610b9154b927"
      },
      "outputs": [
        {
          "output_type": "stream",
          "name": "stdout",
          "text": [
            "The embeddings shape: (50, 384)\n"
          ]
        }
      ],
      "source": [
        "print(f\"The embeddings shape: {embeddings.shape}\")"
      ]
    },
    {
      "cell_type": "markdown",
      "id": "a8474a04",
      "metadata": {
        "id": "a8474a04"
      },
      "source": [
        "## Second Element - Vector Database\n",
        "We will use Pinecone's free-to-use vectorDB"
      ]
    },
    {
      "cell_type": "code",
      "execution_count": 310,
      "id": "de149555",
      "metadata": {
        "id": "de149555"
      },
      "outputs": [],
      "source": [
        "def create_pinecone_index(\n",
        "        index_name: str,\n",
        "        dimension: int,\n",
        "        metric: str = 'cosine',\n",
        "):\n",
        "    \"\"\"\n",
        "    Create a pinecone index if it does not exist\n",
        "    Args:\n",
        "        index_name: The name of the index\n",
        "        dimension: The dimension of the index\n",
        "        metric: The metric to use for the index\n",
        "    Returns:\n",
        "        Pinecone: A pinecone object which can later be used for upserting vectors and connecting to VectorDBs\n",
        "    \"\"\"\n",
        "    from pinecone import Pinecone, ServerlessSpec\n",
        "    print(\"Creating a Pinecone index...\")\n",
        "    pc = Pinecone(api_key=PINECONE_API_KEY)\n",
        "    existing_indexes = [index_info[\"name\"] for index_info in pc.list_indexes()]\n",
        "    if index_name not in existing_indexes:\n",
        "        pc.create_index(\n",
        "            name=index_name,\n",
        "            dimension=dimension,\n",
        "            # Remember! It is crucial that the metric you will use in your VectorDB will also be a metric your embedding\n",
        "            # model works well with!\n",
        "            metric=metric,\n",
        "            spec=ServerlessSpec(\n",
        "                cloud=\"aws\",\n",
        "                region=\"us-east-1\"\n",
        "            )\n",
        "        )\n",
        "    print(\"Done!\")\n",
        "    return pc"
      ]
    },
    {
      "cell_type": "code",
      "execution_count": 311,
      "id": "e6e59ce9",
      "metadata": {
        "colab": {
          "base_uri": "https://localhost:8080/"
        },
        "id": "e6e59ce9",
        "outputId": "ffeddf68-d826-4951-c9d3-13d40c8cbedc"
      },
      "outputs": [
        {
          "output_type": "stream",
          "name": "stdout",
          "text": [
            "Creating a Pinecone index...\n",
            "Done!\n"
          ]
        }
      ],
      "source": [
        "INDEX_NAME = 'news-august-2023-desc-new'\n",
        "\n",
        "# Create the vector database\n",
        "# We are passing the index_name and the size of our embeddings\n",
        "pc = create_pinecone_index(INDEX_NAME, shape[1])"
      ]
    },
    {
      "cell_type": "markdown",
      "id": "99bdf2a1",
      "metadata": {
        "id": "99bdf2a1"
      },
      "source": [
        "Now that we have created the vector database, let's add some data to it!"
      ]
    },
    {
      "cell_type": "code",
      "execution_count": 312,
      "id": "f22e0176",
      "metadata": {
        "id": "f22e0176"
      },
      "outputs": [],
      "source": [
        "def upsert_vectors(\n",
        "        index: Pinecone,\n",
        "        embeddings: np.ndarray,\n",
        "        dataset: dict,\n",
        "        text_field: str = 'description',\n",
        "        batch_size: int = 128\n",
        "):\n",
        "    \"\"\"\n",
        "    Upsert vectors to a pinecone index\n",
        "    Args:\n",
        "        index: The pinecone index object\n",
        "        embeddings: The embeddings to upsert\n",
        "        dataset: The dataset containing the metadata\n",
        "        batch_size: The batch size to use for upserting\n",
        "    Returns:\n",
        "        An updated pinecone index\n",
        "    \"\"\"\n",
        "    print(\"Upserting the embeddings to the Pinecone index...\")\n",
        "    shape = embeddings.shape\n",
        "\n",
        "    ids = [str(i) for i in range(shape[0])]\n",
        "    meta = [{text_field: text} for text in dataset[text_field]]\n",
        "\n",
        "    # create list of (id, vector, metadata) tuples to be upserted\n",
        "    to_upsert = list(zip(ids, embeddings, meta))\n",
        "\n",
        "    for i in tqdm(range(0, shape[0], batch_size)):\n",
        "        i_end = min(i + batch_size, shape[0])\n",
        "        index.upsert(vectors=to_upsert[i:i_end])\n",
        "    return index\n"
      ]
    },
    {
      "cell_type": "code",
      "execution_count": 313,
      "id": "ee8f4096",
      "metadata": {
        "colab": {
          "base_uri": "https://localhost:8080/"
        },
        "id": "ee8f4096",
        "outputId": "fd601337-41e2-45aa-aab0-15428f31b29d"
      },
      "outputs": [
        {
          "output_type": "stream",
          "name": "stdout",
          "text": [
            "Upserting the embeddings to the Pinecone index...\n"
          ]
        },
        {
          "output_type": "stream",
          "name": "stderr",
          "text": [
            "100%|██████████| 1/1 [00:01<00:00,  1.05s/it]\n"
          ]
        }
      ],
      "source": [
        "# Upsert the embeddings to the Pinecone index\n",
        "index = pc.Index(INDEX_NAME)\n",
        "index_upserted = upsert_vectors(index, embeddings, dataset)"
      ]
    },
    {
      "cell_type": "markdown",
      "id": "f24fe00d",
      "metadata": {
        "id": "f24fe00d"
      },
      "source": [
        "Let's view the index statistics!"
      ]
    },
    {
      "cell_type": "code",
      "execution_count": 314,
      "id": "085fe0ef",
      "metadata": {
        "colab": {
          "base_uri": "https://localhost:8080/"
        },
        "id": "085fe0ef",
        "outputId": "8835259b-b980-441a-d409-9c5ae82e211d"
      },
      "outputs": [
        {
          "output_type": "execute_result",
          "data": {
            "text/plain": [
              "{'dimension': 384,\n",
              " 'index_fullness': 0.0,\n",
              " 'namespaces': {},\n",
              " 'total_vector_count': 0}"
            ]
          },
          "metadata": {},
          "execution_count": 314
        }
      ],
      "source": [
        "index.describe_index_stats()"
      ]
    },
    {
      "cell_type": "markdown",
      "id": "a6706e5e",
      "metadata": {
        "id": "a6706e5e"
      },
      "source": [
        "## Third Element - LLM\n",
        "We will use [Cohere's chat API](https://cohere.com/chat)\n",
        "\n",
        "First example to a question that the model can't answer without the RAG process help:"
      ]
    },
    {
      "cell_type": "code",
      "execution_count": 326,
      "id": "f59275f9",
      "metadata": {
        "colab": {
          "base_uri": "https://localhost:8080/",
          "height": 175
        },
        "id": "f59275f9",
        "outputId": "50129df7-b316-41c7-bdc0-f2a77f86d560"
      },
      "outputs": [
        {
          "output_type": "execute_result",
          "data": {
            "text/plain": [
              "\"On June 7, 2022, Germany announced that it was suspending bilateral development cooperation with Guatemala, Honduras, and Nicaragua due to concerns about democratic and human rights violations in those countries. This suspension means that Germany will halt any ongoing development projects and financial assistance programs that it has with these three countries.\\n\\nGermany's decision to suspend cooperation was likely influenced by a variety of factors, including reports of corruption, restrictions on freedom of speech and assembly, and the erosion of the rule of law in the aforementioned countries. This move by Germany sends a strong signal that it prioritizes democracy and human rights in its international engagements and is willing to take concrete actions to promote those values.\\n\\nIt's important to note that the suspension of bilateral cooperation does not necessarily mean a complete cessation of all diplomatic relations or interactions between Germany and these Central American countries. However, it does represent a significant shift in their relationship and may have consequences for areas such as trade, investment, and political dialogue.\""
            ],
            "application/vnd.google.colaboratory.intrinsic+json": {
              "type": "string"
            }
          },
          "metadata": {},
          "execution_count": 326
        }
      ],
      "source": [
        "import cohere\n",
        "\n",
        "#First lets write a query for the LLM\n",
        "query = \"Which country do Germany suspend bilateral cooperation with?\"\n",
        "\n",
        "co = cohere.Client(api_key=COHERE_API_KEY)\n",
        "response = co.chat(\n",
        "        model='command-r-plus',\n",
        "        message=query,\n",
        "    )\n",
        "response.text"
      ]
    },
    {
      "cell_type": "markdown",
      "id": "2961e51d",
      "metadata": {
        "id": "2961e51d"
      },
      "source": [
        "We have a vector database and it is populated with vectors.<br>\n",
        "Let's write a function that queries vectors from the database!"
      ]
    },
    {
      "cell_type": "code",
      "execution_count": 327,
      "id": "bb91e350",
      "metadata": {
        "id": "bb91e350"
      },
      "outputs": [],
      "source": [
        "def augment_prompt(\n",
        "        query: str,\n",
        "        text_field: str = 'description',\n",
        "        model: SentenceTransformer = SentenceTransformer('all-MiniLM-L6-v2'),\n",
        "        index=None,\n",
        ") -> str:\n",
        "    \"\"\"\n",
        "    Augment the prompt with the top 3 results from the knowledge base\n",
        "    Args:\n",
        "        query: The query to augment\n",
        "        index: The vectorstore object\n",
        "    Returns:\n",
        "        str: The augmented prompt\n",
        "    \"\"\"\n",
        "    results = [float(val) for val in list(model.encode(query))]\n",
        "\n",
        "    # get top 3 results from knowledge base\n",
        "    query_results = index.query(\n",
        "        vector=results,\n",
        "        top_k=3,\n",
        "        include_values=True,\n",
        "        include_metadata=True\n",
        "    )['matches']\n",
        "    text_matches = [match['metadata'][text_field] for match in query_results]\n",
        "\n",
        "    # get the text from the results\n",
        "    source_knowledge = \"\\n\\n\".join(text_matches)\n",
        "\n",
        "    # feed into an augmented prompt\n",
        "    augmented_prompt = f\"\"\"Using the contexts below, answer the query.\n",
        "    Contexts:\n",
        "    {source_knowledge}\n",
        "    If the answer is not included in the source knowledge - say that you don't know.\n",
        "    Query: {query}\"\"\"\n",
        "    return augmented_prompt, source_knowledge"
      ]
    },
    {
      "cell_type": "code",
      "execution_count": 328,
      "id": "4f07e0a7",
      "metadata": {
        "colab": {
          "base_uri": "https://localhost:8080/",
          "height": 36
        },
        "id": "4f07e0a7",
        "outputId": "12e31ebb-e054-4d1d-d3aa-de815c6ffca9"
      },
      "outputs": [
        {
          "output_type": "execute_result",
          "data": {
            "text/plain": [
              "'Germany has suspended bilateral cooperation with the Niger Republic.'"
            ],
            "application/vnd.google.colaboratory.intrinsic+json": {
              "type": "string"
            }
          },
          "metadata": {},
          "execution_count": 328
        }
      ],
      "source": [
        "# Let us remember our query\n",
        "query = \"Which country do Germany suspend bilateral cooperation with?\"\n",
        "augmented_prompt, source_knowledge = augment_prompt(query, model=model, index=index)\n",
        "response = co.chat(\n",
        "        model='command-r-plus',\n",
        "        message=augmented_prompt,\n",
        "    )\n",
        "response.text"
      ]
    },
    {
      "cell_type": "code",
      "execution_count": 329,
      "id": "fb65b04e",
      "metadata": {
        "colab": {
          "base_uri": "https://localhost:8080/"
        },
        "id": "fb65b04e",
        "outputId": "ac06511c-83af-4d51-ccda-aa147ca7a06a"
      },
      "outputs": [
        {
          "output_type": "stream",
          "name": "stdout",
          "text": [
            "Coup: Germany To Suspend Bilateral Cooperation With Niger Republic\n",
            "\n",
            "D’Tigress will face the winners between Mozambique and Cote d’Ivoire in the quarter-finals of the 2023 FIBA Women’s Afrobasket taking place in Rwanda. The two sides will face off today and will meet the defending champions, Nigeria who qualified for the quarterfinals after beating Congo DR and Egypt in their two group games. Nigeria, Cameroon,…\n",
            "\n",
            "On July 26, Sen. Patty Murray announced that UW will be the recipient of a $10 million grant for semiconductor manufacturing and research development.\n"
          ]
        }
      ],
      "source": [
        "print(source_knowledge)"
      ]
    },
    {
      "cell_type": "markdown",
      "source": [
        "2nd Example:"
      ],
      "metadata": {
        "id": "sd39tZS-nqK8"
      },
      "id": "sd39tZS-nqK8"
    },
    {
      "cell_type": "code",
      "source": [
        "query = \"What was the score in the game between Nigeria and Ireland in the 2023 FIFA Women’s World Cup?\"\n",
        "\n",
        "co = cohere.Client(api_key=COHERE_API_KEY)\n",
        "response = co.chat(\n",
        "        model='command-r-plus',\n",
        "        message=query,\n",
        "    )\n",
        "response.text"
      ],
      "metadata": {
        "colab": {
          "base_uri": "https://localhost:8080/",
          "height": 53
        },
        "id": "xA3Xh9GTnuZi",
        "outputId": "5fa5b67f-60e2-4d72-8cdf-a1fe6811cb3f"
      },
      "id": "xA3Xh9GTnuZi",
      "execution_count": 330,
      "outputs": [
        {
          "output_type": "execute_result",
          "data": {
            "text/plain": [
              "\"The game between Nigeria and Ireland in the 2023 FIFA Women's World Cup ended with a score of 3-0 in favor of Nigeria. The Super Falcons of Nigeria dominated the game and secured their place in the knockout stages with a convincing victory.\""
            ],
            "application/vnd.google.colaboratory.intrinsic+json": {
              "type": "string"
            }
          },
          "metadata": {},
          "execution_count": 330
        }
      ]
    },
    {
      "cell_type": "code",
      "source": [
        "augmented_prompt, source_knowledge = augment_prompt(query, model=model, index=index)\n",
        "response = co.chat(\n",
        "        model='command-r-plus',\n",
        "        message=augmented_prompt,\n",
        "    )\n",
        "response.text"
      ],
      "metadata": {
        "colab": {
          "base_uri": "https://localhost:8080/",
          "height": 36
        },
        "id": "xxvP4a7XnwLB",
        "outputId": "6cad8efc-b6ca-4a05-8b80-309cd767b833"
      },
      "id": "xxvP4a7XnwLB",
      "execution_count": 331,
      "outputs": [
        {
          "output_type": "execute_result",
          "data": {
            "text/plain": [
              "'The score was 0-0.'"
            ],
            "application/vnd.google.colaboratory.intrinsic+json": {
              "type": "string"
            }
          },
          "metadata": {},
          "execution_count": 331
        }
      ]
    },
    {
      "cell_type": "code",
      "source": [
        "print(source_knowledge)"
      ],
      "metadata": {
        "colab": {
          "base_uri": "https://localhost:8080/"
        },
        "id": "NIRRW7wGn6w0",
        "outputId": "24c69142-a8b7-4e1b-e13b-9a5e8b0a3289"
      },
      "id": "NIRRW7wGn6w0",
      "execution_count": 332,
      "outputs": [
        {
          "output_type": "stream",
          "name": "stdout",
          "text": [
            "... Samoura praises team for making women’s football proud The Super Falcons of Nigeria are through to the round of 16 of the 2023 FIFA Women’s World Cup after a 0-0 draw against Ireland yesterday. The feat means Nigeria is the first African country to have reached the World Cup knockout rounds in two successive…\n",
            "\n",
            "D’Tigress will face the winners between Mozambique and Cote d’Ivoire in the quarter-finals of the 2023 FIBA Women’s Afrobasket taking place in Rwanda. The two sides will face off today and will meet the defending champions, Nigeria who qualified for the quarterfinals after beating Congo DR and Egypt in their two group games. Nigeria, Cameroon,…\n",
            "\n",
            "Home SportsAshes 2023: Stuart Broad Gets Winning Send-Off As England Beat Australia By 49 Runs; Draw Series 2-2 Veteran fast-bowler Stuart Broad got his perfect fairytale ending to a glorious cricketing career by picking the last two wickets as England beat Australia by 49 runs in the fifth and final Ashes Test at The Oval…\n"
          ]
        }
      ]
    },
    {
      "cell_type": "markdown",
      "source": [
        "3rd Example:"
      ],
      "metadata": {
        "id": "jdHpOgU4n8sS"
      },
      "id": "jdHpOgU4n8sS"
    },
    {
      "cell_type": "code",
      "source": [
        "query = \"How did former UFC middleweight champion Alex Pereira won his match in his light heavyweight debut at UFC 291?\"\n",
        "\n",
        "co = cohere.Client(api_key=COHERE_API_KEY)\n",
        "response = co.chat(\n",
        "        model='command-r-plus',\n",
        "        message=query,\n",
        "    )\n",
        "response.text"
      ],
      "metadata": {
        "colab": {
          "base_uri": "https://localhost:8080/",
          "height": 122
        },
        "id": "GrpDpNnPn7j3",
        "outputId": "d6b8baa4-76f5-40d3-f8ea-acf01c1c0f10"
      },
      "id": "GrpDpNnPn7j3",
      "execution_count": 333,
      "outputs": [
        {
          "output_type": "execute_result",
          "data": {
            "text/plain": [
              "\"Alex Pereira, the former UFC middleweight champion, won his light heavyweight debut at UFC 291 on June 29, 2024, with a stunning second-round knockout of his opponent, Nikita Krylov.\\n\\nPereira, who is known for his exceptional knockout power, showcased his skills once again in this fight. In the second round, he landed a perfectly timed counter right hook that caught Krylov off guard, sending him crashing to the canvas. Pereira followed up with additional strikes on the ground to secure the knockout victory.\\n\\nThe win improved Pereira's professional MMA record to 8-1, with all of his wins coming by way of knockout. This impressive performance in his light heavyweight debut is sure to generate even more excitement around Pereira's future in the UFC, as he continues to establish himself as one of the most exciting knockout artists in the sport.\""
            ],
            "application/vnd.google.colaboratory.intrinsic+json": {
              "type": "string"
            }
          },
          "metadata": {},
          "execution_count": 333
        }
      ]
    },
    {
      "cell_type": "code",
      "source": [
        "augmented_prompt, source_knowledge = augment_prompt(query, model=model, index=index)\n",
        "response = co.chat(\n",
        "        model='command-r-plus',\n",
        "        message=augmented_prompt,\n",
        "    )\n",
        "response.text"
      ],
      "metadata": {
        "colab": {
          "base_uri": "https://localhost:8080/",
          "height": 36
        },
        "id": "d591FAosn7v2",
        "outputId": "78646601-e2f0-4a4e-8466-81001e2e5f6b"
      },
      "id": "d591FAosn7v2",
      "execution_count": 334,
      "outputs": [
        {
          "output_type": "execute_result",
          "data": {
            "text/plain": [
              "'Alex Pereira won his match by split decision.'"
            ],
            "application/vnd.google.colaboratory.intrinsic+json": {
              "type": "string"
            }
          },
          "metadata": {},
          "execution_count": 334
        }
      ]
    },
    {
      "cell_type": "code",
      "source": [
        "print(source_knowledge)"
      ],
      "metadata": {
        "colab": {
          "base_uri": "https://localhost:8080/"
        },
        "id": "GV1-CbExn77E",
        "outputId": "edc6f106-243f-4891-a6bf-850ce398ee1a"
      },
      "id": "GV1-CbExn77E",
      "execution_count": 335,
      "outputs": [
        {
          "output_type": "stream",
          "name": "stdout",
          "text": [
            "Former UFC middleweight champion Alex Pereira won his match by split decision in his light heavyweight debut at UFC 291 on Saturday but one name that remains attached to the kickboxing star is Nigerian-born fighter Israel Adesanya. During the post-fight interview, the Brazilian made it his condition to accept a third fight against “The Last…\n",
            "\n",
            "Home SportsAshes 2023: Stuart Broad Gets Winning Send-Off As England Beat Australia By 49 Runs; Draw Series 2-2 Veteran fast-bowler Stuart Broad got his perfect fairytale ending to a glorious cricketing career by picking the last two wickets as England beat Australia by 49 runs in the fifth and final Ashes Test at The Oval…\n",
            "\n",
            "... Samoura praises team for making women’s football proud The Super Falcons of Nigeria are through to the round of 16 of the 2023 FIFA Women’s World Cup after a 0-0 draw against Ireland yesterday. The feat means Nigeria is the first African country to have reached the World Cup knockout rounds in two successive…\n"
          ]
        }
      ]
    }
  ],
  "metadata": {
    "celltoolbar": "Slideshow",
    "kernelspec": {
      "display_name": "Python 3 (ipykernel)",
      "language": "python",
      "name": "python3"
    },
    "language_info": {
      "codemirror_mode": {
        "name": "ipython",
        "version": 3
      },
      "file_extension": ".py",
      "mimetype": "text/x-python",
      "name": "python",
      "nbconvert_exporter": "python",
      "pygments_lexer": "ipython3",
      "version": "3.11.3"
    },
    "colab": {
      "provenance": []
    }
  },
  "nbformat": 4,
  "nbformat_minor": 5
}