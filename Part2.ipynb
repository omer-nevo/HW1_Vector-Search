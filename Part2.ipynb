{
  "cells": [
    {
      "cell_type": "code",
      "source": [
        "!pip install faiss-cpu\n"
      ],
      "metadata": {
        "colab": {
          "base_uri": "https://localhost:8080/"
        },
        "id": "5gj48Wde882v",
        "outputId": "77007c80-f178-4203-95bc-a0eff222d720"
      },
      "id": "5gj48Wde882v",
      "execution_count": 248,
      "outputs": [
        {
          "output_type": "stream",
          "name": "stdout",
          "text": [
            "Requirement already satisfied: faiss-cpu in /usr/local/lib/python3.10/dist-packages (1.8.0.post1)\n",
            "Requirement already satisfied: numpy<2.0,>=1.0 in /usr/local/lib/python3.10/dist-packages (from faiss-cpu) (1.25.2)\n",
            "Requirement already satisfied: packaging in /usr/local/lib/python3.10/dist-packages (from faiss-cpu) (24.1)\n"
          ]
        }
      ]
    },
    {
      "cell_type": "code",
      "execution_count": 249,
      "id": "initial_id",
      "metadata": {
        "ExecuteTime": {
          "end_time": "2024-06-10T21:00:36.522780Z",
          "start_time": "2024-06-10T21:00:35.443137Z"
        },
        "pycharm": {
          "name": "#%%\n",
          "is_executing": true
        },
        "id": "initial_id"
      },
      "outputs": [],
      "source": [
        "import numpy as np\n",
        "from scipy import spatial\n",
        "import faiss\n",
        "from time import time\n",
        "import matplotlib.pyplot as plt\n",
        "from collections import defaultdict\n",
        "import random"
      ]
    },
    {
      "cell_type": "markdown",
      "id": "62f09c59a02a3b0d",
      "metadata": {
        "pycharm": {
          "name": "#%% md\n"
        },
        "id": "62f09c59a02a3b0d"
      },
      "source": [
        "## Helper Function"
      ]
    },
    {
      "cell_type": "code",
      "execution_count": 250,
      "id": "5a991f1eb012a476",
      "metadata": {
        "ExecuteTime": {
          "end_time": "2024-06-10T21:00:44.538572Z",
          "start_time": "2024-06-10T21:00:44.525608Z"
        },
        "pycharm": {
          "name": "#%%\n"
        },
        "id": "5a991f1eb012a476"
      },
      "outputs": [],
      "source": [
        "def semi_optimized_exhaustive_search(\n",
        "        index_vectors: np.ndarray,\n",
        "        query_vectors: np.ndarray,\n",
        "        k: int,\n",
        "):\n",
        "    \"\"\"\n",
        "    This function performs an optimized exhaustive search.\n",
        "    Args:\n",
        "        index_vectors: An array of shape (n_index, dim) containing the index vectors.\n",
        "        query_vectors: An array of shape (n_queries, dim) containing the query vectors.\n",
        "        dim: The dimensionality of the vectors.\n",
        "    Returns:\n",
        "        An array of shape (n_queries, k) containing the indices of the k nearest neighbors for each query vector.\n",
        "    \"\"\"\n",
        "    ann_lists = []\n",
        "    for query_vec in query_vectors:\n",
        "        distances = np.linalg.norm(index_vectors - query_vec, axis=1)\n",
        "        ann_lists.append(list(np.argsort(distances)[:k]))\n",
        "    return np.array(ann_lists)"
      ]
    },
    {
      "cell_type": "code",
      "execution_count": 251,
      "id": "a8ef475c717fbe2e",
      "metadata": {
        "ExecuteTime": {
          "end_time": "2024-06-10T21:00:47.719310Z",
          "start_time": "2024-06-10T21:00:47.698362Z"
        },
        "pycharm": {
          "name": "#%%\n"
        },
        "id": "a8ef475c717fbe2e"
      },
      "outputs": [],
      "source": [
        "def build_faiss_flatl2_index(\n",
        "        index_vectors: np.ndarray,\n",
        "        dim: int,\n",
        "):\n",
        "    \"\"\"\n",
        "    This function builds a Faiss flat L2 index.\n",
        "    Args:\n",
        "        index_vectors: An array of shape (n_index, dim) containing the index vectors.\n",
        "        dim: The dimensionality of the vectors.\n",
        "    Returns:\n",
        "        A Faiss flat L2 index.\n",
        "    \"\"\"\n",
        "    index = faiss.IndexFlatL2(dim)\n",
        "    index.add(index_vectors)\n",
        "    return index"
      ]
    },
    {
      "cell_type": "code",
      "execution_count": 252,
      "id": "1df7a2d698755a82",
      "metadata": {
        "ExecuteTime": {
          "end_time": "2024-06-10T21:00:48.174553Z",
          "start_time": "2024-06-10T21:00:48.157599Z"
        },
        "pycharm": {
          "name": "#%%\n"
        },
        "id": "1df7a2d698755a82"
      },
      "outputs": [],
      "source": [
        "def faiss_search(\n",
        "        query_vectors: np.ndarray,\n",
        "        index: faiss.Index,\n",
        "        k: int,\n",
        "):\n",
        "    \"\"\"\n",
        "    This function uses a Faiss index to search for the k-nearest neighbors of query_vectors.\n",
        "    Args:\n",
        "        query_vectors: An array of shape (n_queries, dim) containing the query vectors.\n",
        "        index: A Faiss index.\n",
        "        k: The number of nearest neighbors to retrieve.\n",
        "    Returns:\n",
        "        An array of shape (, ) containing the indices of the k-nearest neighbors for each query vector.\n",
        "    \"\"\"\n",
        "    distances, indices = index.search(query_vectors, k)\n",
        "    return indices"
      ]
    },
    {
      "cell_type": "code",
      "execution_count": 253,
      "id": "af14bea64023a3d4",
      "metadata": {
        "ExecuteTime": {
          "end_time": "2024-06-10T21:00:49.337476Z",
          "start_time": "2024-06-10T21:00:49.325508Z"
        },
        "pycharm": {
          "name": "#%%\n"
        },
        "id": "af14bea64023a3d4"
      },
      "outputs": [],
      "source": [
        "def build_faiss_lsh_index(\n",
        "        index_vectors: np.ndarray,\n",
        "        dim: int,\n",
        "        nbits: int,\n",
        "):\n",
        "    \"\"\"\n",
        "    This function builds a Faiss LSH index.\n",
        "    Args:\n",
        "        index_vectors: An array of shape (n_index, dim) containing the index vectors.\n",
        "        dim: The dimensionality of the vectors.\n",
        "        nbits: The number of bits to use in the hash.\n",
        "    Returns:\n",
        "        A Faiss LSH index.\n",
        "    \"\"\"\n",
        "    index = faiss.IndexLSH(dim, nbits)\n",
        "    index.add(index_vectors)\n",
        "    return index"
      ]
    },
    {
      "cell_type": "code",
      "execution_count": 254,
      "id": "b4b0932dfa7d7a4c",
      "metadata": {
        "ExecuteTime": {
          "end_time": "2024-06-10T21:00:49.732824Z",
          "start_time": "2024-06-10T21:00:49.718871Z"
        },
        "pycharm": {
          "name": "#%%\n"
        },
        "id": "b4b0932dfa7d7a4c"
      },
      "outputs": [],
      "source": [
        "def compute_recall_at_k(\n",
        "        nn_gt: np.ndarray,\n",
        "        ann: np.ndarray,\n",
        "        k: int,\n",
        "):\n",
        "    \"\"\"\n",
        "    This function computes the recall@k.\n",
        "    Args:\n",
        "        nn_gt: The ground truth nearest neighbors.\n",
        "        ann: The approximate nearest neighbors.\n",
        "        k: The number of nearest neighbors to consider.\n",
        "    Returns:\n",
        "        The recall@k.\n",
        "    \"\"\"\n",
        "    return round(sum([len(set(ann[i]) & set(nn_gt[i])) / k for i in range(len(ann))])/len(ann), 3)"
      ]
    },
    {
      "cell_type": "code",
      "source": [
        "import numpy as np\n",
        "\n",
        "def initialize_centers(index_vectors: np.ndarray, k: int) -> np.ndarray:\n",
        "    \"\"\"\n",
        "    Initialize k cluster centers randomly from the data points.\n",
        "\n",
        "    Parameters:\n",
        "    index_vectors (np.ndarray): The data to cluster.\n",
        "    k (int): The number of clusters.\n",
        "\n",
        "    Returns:\n",
        "    np.ndarray: The initialized cluster centers.\n",
        "    \"\"\"\n",
        "    indices = np.random.choice(index_vectors.shape[0], k, replace=False)\n",
        "    return index_vectors[indices]\n",
        "\n",
        "def assign_clusters(index_vectors: np.ndarray, centers: np.ndarray) -> np.ndarray:\n",
        "    \"\"\"\n",
        "    Assign each data point to the nearest cluster center.\n",
        "\n",
        "    Parameters:\n",
        "    index_vectors (np.ndarray): The data to cluster.\n",
        "    centers (np.ndarray): The current cluster centers.\n",
        "\n",
        "    Returns:\n",
        "    np.ndarray: The cluster labels for each data point.\n",
        "    \"\"\"\n",
        "    distances = np.linalg.norm(index_vectors[:, np.newaxis] - centers, axis=2)\n",
        "    return np.argmin(distances, axis=1)\n",
        "\n",
        "def update_centers(index_vectors: np.ndarray, labels: np.ndarray, k: int) -> np.ndarray:\n",
        "    \"\"\"\n",
        "    Update the cluster centers as the mean of the assigned data points.\n",
        "\n",
        "    Parameters:\n",
        "    index_vectors (np.ndarray): The data to cluster.\n",
        "    labels (np.ndarray): The current cluster labels for each data point.\n",
        "    k (int): The number of clusters.\n",
        "\n",
        "    Returns:\n",
        "    np.ndarray: The updated cluster centers.\n",
        "    \"\"\"\n",
        "    centers = np.zeros((k, index_vectors.shape[1]))\n",
        "    for i in range(k):\n",
        "        points = index_vectors[labels == i]\n",
        "        if len(points) > 0:\n",
        "            centers[i] = np.mean(points, axis=0)\n",
        "    return centers\n",
        "\n",
        "def run_kmeans(index_vectors: np.ndarray, k: int, max_iters: int = 10, tol: float = 1e-4):\n",
        "    \"\"\"\n",
        "    Run KMeans clustering on the given index vectors.\n",
        "\n",
        "    Parameters:\n",
        "    index_vectors (np.ndarray): The data to cluster, where each row is an index vector.\n",
        "    k (int): The number of clusters.\n",
        "    max_iters (int): Maximum number of iterations.\n",
        "    tol (float): Tolerance for convergence.\n",
        "\n",
        "    Returns:\n",
        "    tuple: A tuple containing:\n",
        "        - labels (np.ndarray): The cluster labels for each index vector.\n",
        "        - centers (np.ndarray): The coordinates of the cluster centers.\n",
        "    \"\"\"\n",
        "    centers = initialize_centers(index_vectors, k)\n",
        "    for _ in range(max_iters):\n",
        "        labels = assign_clusters(index_vectors, centers)\n",
        "        new_centers = update_centers(index_vectors, labels, k)\n",
        "\n",
        "        if np.linalg.norm(new_centers - centers) < tol:\n",
        "            break\n",
        "\n",
        "        centers = new_centers\n",
        "\n",
        "    return labels, centers\n",
        "\n",
        "\n",
        "class KMindex:\n",
        "    def __init__(self, labels, centers, index_vectors):\n",
        "        \"\"\"\n",
        "        Parameters:\n",
        "        labels (np.ndarray): The cluster labels for each index vector.\n",
        "        centers (np.ndarray): The coordinates of the cluster centers.\n",
        "        index_vectors (np.ndarray): The original index vectors.\n",
        "        \"\"\"\n",
        "        self.labels = labels\n",
        "        self.centers = centers\n",
        "        self.index_vectors = index_vectors\n",
        "\n",
        "    def search(self, query_vectors, k=1):\n",
        "        \"\"\"\n",
        "        Parameters:\n",
        "        query_vectors (np.ndarray): The query vectors to search for.\n",
        "        k (int): The number of nearest neighbors to return.\n",
        "\n",
        "        Returns:\n",
        "        indices (np.ndarray): The indices of the nearest neighbors for each query vector.\n",
        "        \"\"\"\n",
        "        distances_to_centers = self.compute_distances_to_centers(query_vectors)\n",
        "        nearest_centers = np.argmin(distances_to_centers, axis=1)\n",
        "        ann_lists = self.find_nearest_neighbors(query_vectors, nearest_centers, distances_to_centers, k)\n",
        "        return np.array(ann_lists)\n",
        "\n",
        "    def compute_distances_to_centers(self, query_vectors):\n",
        "        \"\"\"\n",
        "        Compute the distances from query vectors to cluster centers.\n",
        "\n",
        "        Parameters:\n",
        "        query_vectors (np.ndarray): The query vectors.\n",
        "\n",
        "        Returns:\n",
        "        np.ndarray: The distances from query vectors to cluster centers.\n",
        "        \"\"\"\n",
        "        return np.linalg.norm(query_vectors[:, np.newaxis] - self.centers, axis=2)\n",
        "\n",
        "    def find_nearest_neighbors(self, query_vectors, nearest_centers, distances_to_centers, k):\n",
        "        \"\"\"\n",
        "        Find the nearest neighbors for each query vector.\n",
        "\n",
        "        Parameters:\n",
        "        query_vectors (np.ndarray): The query vectors.\n",
        "        nearest_centers (np.ndarray): The indices of the nearest cluster centers for each query vector.\n",
        "        distances_to_centers (np.ndarray): The distances from query vectors to cluster centers.\n",
        "        k (int): The number of nearest neighbors to return.\n",
        "\n",
        "        Returns:\n",
        "        list: A list of indices of the nearest neighbors for each query vector.\n",
        "        \"\"\"\n",
        "        ann_lists = []\n",
        "        for i, query_vec in enumerate(query_vectors):\n",
        "            ann_lists.append(self.find_neighbors_in_cluster(query_vec, nearest_centers[i], distances_to_centers[i], k))\n",
        "        return ann_lists\n",
        "\n",
        "    def find_neighbors_in_cluster(self, query_vec, cluster_label, distances_to_centers_row, k):\n",
        "        \"\"\"\n",
        "        Find the nearest neighbors within a cluster or across multiple clusters if needed.\n",
        "\n",
        "        Parameters:\n",
        "        query_vec (np.ndarray): A single query vector.\n",
        "        cluster_label (int): The label of the nearest cluster.\n",
        "        distances_to_centers_row (np.ndarray): The distances from the query vector to cluster centers.\n",
        "        k (int): The number of nearest neighbors to return.\n",
        "\n",
        "        Returns:\n",
        "        np.ndarray: The indices of the nearest neighbors.\n",
        "        \"\"\"\n",
        "        cluster_indices = np.where(self.labels == cluster_label)[0]\n",
        "        cluster_vectors = self.index_vectors[cluster_indices]\n",
        "\n",
        "        if len(cluster_vectors) < k:\n",
        "            nearest_indices = self.handle_insufficient_cluster_size(query_vec, cluster_indices, cluster_vectors, distances_to_centers_row, k)\n",
        "        else:\n",
        "            nearest_indices = self.find_nearest_in_cluster(query_vec, cluster_indices, cluster_vectors, k)\n",
        "\n",
        "        return nearest_indices\n",
        "\n",
        "    def handle_insufficient_cluster_size(self, query_vec, cluster_indices, cluster_vectors, distances_to_centers_row, k):\n",
        "        \"\"\"\n",
        "        Handle the case where the closest cluster has fewer than k vectors.\n",
        "\n",
        "        Parameters:\n",
        "        query_vec (np.ndarray): A single query vector.\n",
        "        cluster_indices (np.ndarray): The indices of vectors in the closest cluster.\n",
        "        cluster_vectors (np.ndarray): The vectors in the closest cluster.\n",
        "        distances_to_centers_row (np.ndarray): The distances from the query vector to cluster centers.\n",
        "        k (int): The number of nearest neighbors to return.\n",
        "\n",
        "        Returns:\n",
        "        np.ndarray: The indices of the nearest neighbors.\n",
        "        \"\"\"\n",
        "        remaining_k = k - len(cluster_vectors)\n",
        "        nearest_indices_within_cluster = self.find_nearest_in_cluster(query_vec, cluster_indices, cluster_vectors, len(cluster_vectors))\n",
        "\n",
        "        second_closest_cluster_label = np.argsort(distances_to_centers_row)[1]\n",
        "        second_cluster_indices = np.where(self.labels == second_closest_cluster_label)[0]\n",
        "        second_cluster_vectors = self.index_vectors[second_cluster_indices]\n",
        "\n",
        "        nearest_indices_within_second_cluster = self.find_nearest_in_cluster(query_vec, second_cluster_indices, second_cluster_vectors, remaining_k)\n",
        "\n",
        "        return np.concatenate([nearest_indices_within_cluster, nearest_indices_within_second_cluster])\n",
        "\n",
        "    def find_nearest_in_cluster(self, query_vec, cluster_indices, cluster_vectors, k):\n",
        "        \"\"\"\n",
        "        Find the nearest neighbors within a given cluster.\n",
        "\n",
        "        Parameters:\n",
        "        query_vec (np.ndarray): A single query vector.\n",
        "        cluster_indices (np.ndarray): The indices of vectors in the cluster.\n",
        "        cluster_vectors (np.ndarray): The vectors in the cluster.\n",
        "        k (int): The number of nearest neighbors to return.\n",
        "\n",
        "        Returns:\n",
        "        np.ndarray: The indices of the nearest neighbors.\n",
        "        \"\"\"\n",
        "        distances = np.linalg.norm(cluster_vectors - query_vec, axis=1)\n",
        "        return cluster_indices[np.argsort(distances)[:k]]\n",
        "\n",
        "\n"
      ],
      "metadata": {
        "id": "MYEpVDewU-Rf"
      },
      "id": "MYEpVDewU-Rf",
      "execution_count": 255,
      "outputs": []
    },
    {
      "cell_type": "markdown",
      "id": "77d4be2e90ed842",
      "metadata": {
        "pycharm": {
          "name": "#%% md\n"
        },
        "id": "77d4be2e90ed842"
      },
      "source": [
        "# 2.1 -- LSH vs Naive Exhaustive Search (Regular Index Vectors)\n",
        "### You just have to run the following cells and add the following results to the report:\n",
        "* running time of the ground truth computation with semi_optimized_exhaustive_search (wall time)\n",
        "* running time of creating faiss_lsh_index (wall time)\n",
        "* running time of faiss_search over query_vectors with faiss_lsh_index (wall time)\n",
        "* recall@10 for faiss_lsh_ann"
      ]
    },
    {
      "cell_type": "code",
      "execution_count": 256,
      "id": "b4fdbd7671405821",
      "metadata": {
        "ExecuteTime": {
          "end_time": "2024-06-10T21:00:52.378174Z",
          "start_time": "2024-06-10T21:00:52.351252Z"
        },
        "pycharm": {
          "name": "#%%\n"
        },
        "id": "b4fdbd7671405821"
      },
      "outputs": [],
      "source": [
        "query_vectors = np.load('query_vectors.npy')\n",
        "index_vectors = np.load('index_vectors.npy')\n",
        "k=10\n",
        "dim = index_vectors.shape[1]"
      ]
    },
    {
      "cell_type": "code",
      "execution_count": 257,
      "id": "65ff74d429524ffc",
      "metadata": {
        "ExecuteTime": {
          "end_time": "2024-06-10T21:18:41.035362Z",
          "start_time": "2024-06-10T21:18:41.017409Z"
        },
        "pycharm": {
          "name": "#%%\n"
        },
        "colab": {
          "base_uri": "https://localhost:8080/"
        },
        "id": "65ff74d429524ffc",
        "outputId": "0b301eab-9bed-44fc-86d0-23d211e3ecb7"
      },
      "outputs": [
        {
          "output_type": "stream",
          "name": "stdout",
          "text": [
            "CPU times: user 12.2 s, sys: 20.4 ms, total: 12.2 s\n",
            "Wall time: 16.7 s\n"
          ]
        }
      ],
      "source": [
        "%%time\n",
        "gt_nn = semi_optimized_exhaustive_search(index_vectors, query_vectors, k)"
      ]
    },
    {
      "cell_type": "code",
      "execution_count": 258,
      "id": "bd448cbdb96b1ba0",
      "metadata": {
        "ExecuteTime": {
          "end_time": "2024-06-10T21:18:36.008226Z",
          "start_time": "2024-06-10T21:18:35.998251Z"
        },
        "pycharm": {
          "name": "#%%\n"
        },
        "colab": {
          "base_uri": "https://localhost:8080/"
        },
        "id": "bd448cbdb96b1ba0",
        "outputId": "cb08b81e-0e7b-4165-f8d0-c53518f34a43"
      },
      "outputs": [
        {
          "output_type": "stream",
          "name": "stdout",
          "text": [
            "CPU times: user 1.35 s, sys: 102 ms, total: 1.46 s\n",
            "Wall time: 1.57 s\n"
          ]
        }
      ],
      "source": [
        "%%time\n",
        "faiss_lsh_index = build_faiss_lsh_index(index_vectors, dim, nbits=2000)"
      ]
    },
    {
      "cell_type": "code",
      "execution_count": 259,
      "id": "b0a321e6b7406267",
      "metadata": {
        "ExecuteTime": {
          "end_time": "2024-06-10T21:18:32.391344Z",
          "start_time": "2024-06-10T21:18:32.385337Z"
        },
        "pycharm": {
          "name": "#%%\n"
        },
        "colab": {
          "base_uri": "https://localhost:8080/"
        },
        "id": "b0a321e6b7406267",
        "outputId": "077940d5-938f-4bc1-80af-f771f816761a"
      },
      "outputs": [
        {
          "output_type": "stream",
          "name": "stdout",
          "text": [
            "CPU times: user 1.32 s, sys: 0 ns, total: 1.32 s\n",
            "Wall time: 977 ms\n"
          ]
        }
      ],
      "source": [
        "%%time\n",
        "faiss_lsh_ann = faiss_search(query_vectors, faiss_lsh_index, k)"
      ]
    },
    {
      "cell_type": "code",
      "execution_count": 260,
      "id": "e5554595c4d77a27",
      "metadata": {
        "ExecuteTime": {
          "end_time": "2024-06-10T21:18:26.322703Z",
          "start_time": "2024-06-10T21:18:26.233820Z"
        },
        "pycharm": {
          "name": "#%%\n"
        },
        "colab": {
          "base_uri": "https://localhost:8080/"
        },
        "id": "e5554595c4d77a27",
        "outputId": "05d37dcf-32cd-4e85-e78f-a7bb357bc26f"
      },
      "outputs": [
        {
          "output_type": "stream",
          "name": "stdout",
          "text": [
            "recall@10 for faiss_lsh_index: 0.138\n"
          ]
        }
      ],
      "source": [
        "print(f\"recall@10 for faiss_lsh_index: {compute_recall_at_k(gt_nn, faiss_lsh_ann, k)}\")"
      ]
    },
    {
      "cell_type": "markdown",
      "id": "ad5ca983b3a893e5",
      "metadata": {
        "pycharm": {
          "name": "#%% md\n"
        },
        "id": "ad5ca983b3a893e5"
      },
      "source": [
        "# 2.2 -- Custom Indexing Algorithm\n",
        "Build an indexing algorithm that satisfies the following requirements:\n",
        "* The indexing algorithm should be able to handle vectors of different dimensions\n",
        "* The running time of the indexing should be less than half of the running time of semi_optimized_exhaustive_search), reported in Section 2.1.\n",
        "* The running time of searching over the index should be less than a third (1/3) of the time of the semi_optimized_exhaustive_search function, reported in Section 2.1.\n",
        "* The performance (in terms of recall@10) of the indexing algorithm should be at least 0.8.\n",
        "\n",
        "The last three bullets should also appear in the report.\n",
        "You are allowed to add as many helper functions as you need. You cannot use faiss of scipy libraries for this task. Numpy is allowed.\n",
        "\n",
        "You can also test your algorithm with the additional two query-index sets by replacing the calls made few cells ago to:\n",
        "\n",
        "    query_vectors = np.load('data/query_vectors2.npy')\n",
        "    index_vectors = np.load('data/index_vectors2.npy')\n",
        "or:\n",
        "\n",
        "    query_vectors = np.load('data/query_vectors3.npy')\n",
        "    index_vectors = np.load('data/index_vectors3.npy')\n",
        "    \n",
        "the aforementioned requirements should also be satisfied over these two query-index sets. No need to insert the results over these two to the report."
      ]
    },
    {
      "cell_type": "code",
      "execution_count": 261,
      "id": "8421dc36363650c5",
      "metadata": {
        "ExecuteTime": {
          "end_time": "2024-05-27T12:25:32.578478400Z",
          "start_time": "2024-05-27T12:25:32.483352800Z"
        },
        "pycharm": {
          "name": "#%%\n"
        },
        "id": "8421dc36363650c5"
      },
      "outputs": [],
      "source": [
        "#TODO: Write your code for 2.2.2 here\n",
        "# You are allowed to add more arguments to the functions and create more functions if needed.\n",
        "\n",
        "def custom_indexing_algorithm(index_vectors, dim,clusters):\n",
        "    \"\"\"\n",
        "    This function builds an index from scratch.\n",
        "    Args:\n",
        "        index_vectors: An array of shape (n_index, dim) containing the index vectors.\n",
        "        dim: The dimensionality of the vectors.\n",
        "        clusters: The number of clusters.\n",
        "    Returns:\n",
        "        An index.\n",
        "    \"\"\"\n",
        "    labels, centers = run_kmeans(index_vectors, clusters)\n",
        "    index = KMindex(labels, centers, index_vectors)\n",
        "    return index\n",
        "\n",
        "\n",
        "def custom_index_search(query_vectors, index, k):\n",
        "    \"\"\"\n",
        "    This function searches over the custom index.\n",
        "    Args:\n",
        "        query_vectors: An array of shape (n_queries, dim) containing the query vectors.\n",
        "        index: The custom index.\n",
        "        k: The number of nearest neighbors to retrieve.\n",
        "    \"\"\"\n",
        "    return index.search(query_vectors, k)\n",
        ""
      ]
    },
    {
      "cell_type": "code",
      "execution_count": 262,
      "id": "a50f4b92f2ec12fd",
      "metadata": {
        "ExecuteTime": {
          "end_time": "2024-06-10T21:00:22.662764Z",
          "start_time": "2024-06-10T21:00:22.650804Z"
        },
        "pycharm": {
          "name": "#%%\n"
        },
        "id": "a50f4b92f2ec12fd"
      },
      "outputs": [],
      "source": [
        "# Add hyperparameters here (if needed)"
      ]
    },
    {
      "cell_type": "code",
      "execution_count": 263,
      "id": "ef371ecd242846db",
      "metadata": {
        "pycharm": {
          "name": "#%%\n"
        },
        "colab": {
          "base_uri": "https://localhost:8080/"
        },
        "id": "ef371ecd242846db",
        "outputId": "327683c8-a393-4283-dc37-96c3f6e18e7b"
      },
      "outputs": [
        {
          "output_type": "stream",
          "name": "stdout",
          "text": [
            "CPU times: user 297 ms, sys: 345 ms, total: 642 ms\n",
            "Wall time: 686 ms\n"
          ]
        }
      ],
      "source": [
        "%%time\n",
        "clusters = 9\n",
        "custom_index = custom_indexing_algorithm(index_vectors, dim,clusters)"
      ]
    },
    {
      "cell_type": "code",
      "execution_count": 264,
      "id": "1c40c61275a3d001",
      "metadata": {
        "pycharm": {
          "name": "#%%\n"
        },
        "colab": {
          "base_uri": "https://localhost:8080/"
        },
        "id": "1c40c61275a3d001",
        "outputId": "e40edff6-bf2c-4f08-fb5b-48f9f0cb3260"
      },
      "outputs": [
        {
          "output_type": "stream",
          "name": "stdout",
          "text": [
            "CPU times: user 2.24 s, sys: 7.02 ms, total: 2.25 s\n",
            "Wall time: 3.03 s\n"
          ]
        }
      ],
      "source": [
        "%%time\n",
        "custom_index_ann = custom_index_search(query_vectors, custom_index, k)"
      ]
    },
    {
      "cell_type": "code",
      "execution_count": 265,
      "id": "3ddba190c55cd0af",
      "metadata": {
        "ExecuteTime": {
          "end_time": "2024-05-27T13:30:57.922904800Z",
          "start_time": "2024-05-27T13:30:57.874785600Z"
        },
        "pycharm": {
          "name": "#%%\n"
        },
        "colab": {
          "base_uri": "https://localhost:8080/"
        },
        "id": "3ddba190c55cd0af",
        "outputId": "247ff0f7-909b-4248-d43c-e9d8038e65a7"
      },
      "outputs": [
        {
          "output_type": "stream",
          "name": "stdout",
          "text": [
            "recall@10 for custom_index_search: 1.0\n"
          ]
        }
      ],
      "source": [
        "print(f\"recall@10 for custom_index_search: {compute_recall_at_k(gt_nn, custom_index_ann, k)}\")"
      ]
    },
    {
      "cell_type": "markdown",
      "source": [
        "**Compute K**"
      ],
      "metadata": {
        "id": "IBnxCDvHO6GU"
      },
      "id": "IBnxCDvHO6GU"
    },
    {
      "cell_type": "code",
      "source": [
        "import time\n",
        "\n",
        "start_time = time.time()\n",
        "gt_nn = semi_optimized_exhaustive_search(index_vectors, query_vectors, k)\n",
        "end_time = time.time()\n",
        "baseline_time = end_time - start_time\n",
        "min_recall = 0.8\n",
        "max_indexing_time = baseline_time*0.5\n",
        "max_search_time = baseline_time*0.33\n",
        "print(\"Baseline walltime time:\", baseline_time)\n",
        "print(f'Maximum indexing time: {max_indexing_time}')\n",
        "print(f'Maximum search time: {max_search_time}')\n",
        "print(f'Minimum recall@10: {min_recall}')"
      ],
      "metadata": {
        "colab": {
          "base_uri": "https://localhost:8080/"
        },
        "id": "mMT77W22PACg",
        "outputId": "0ff0d2c6-15e0-4380-f441-0ac2286457cc"
      },
      "id": "mMT77W22PACg",
      "execution_count": 266,
      "outputs": [
        {
          "output_type": "stream",
          "name": "stdout",
          "text": [
            "Baseline walltime time: 17.61409068107605\n",
            "Maximum indexing time: 8.807045340538025\n",
            "Maximum search time: 5.812649924755097\n",
            "Minimum recall@10: 0.8\n"
          ]
        }
      ]
    },
    {
      "cell_type": "code",
      "source": [
        "from re import search\n",
        "\n",
        "def compute_indexing_time(index_vectors, dim,clusters):\n",
        "  start_time = time.time()\n",
        "  custom_index = custom_indexing_algorithm(index_vectors, dim,clusters)\n",
        "  end_time = time.time()\n",
        "  indexing_time = end_time - start_time\n",
        "  return indexing_time,custom_index\n",
        "\n",
        "\n",
        "def compute_search_time(query_vectors, custom_index, k):\n",
        "  start_time = time.time()\n",
        "  custom_index_ann = custom_index_search(query_vectors, custom_index, k)\n",
        "  end_time = time.time()\n",
        "  search_time = end_time - start_time\n",
        "  return search_time, custom_index_ann\n",
        "\n",
        "\n",
        "def plot_graphs(index_vectors, dim, max_indexing_time, min_recall, max_search_time):\n",
        "  clusters = [i*4 for i in range(1, 15)]\n",
        "  indexing_times = []\n",
        "  search_times = []\n",
        "  recall_values = []\n",
        "  for cluster_num in clusters:\n",
        "    indexing_time, custom_index = compute_indexing_time(index_vectors, dim,cluster_num)\n",
        "    indexing_times.append(indexing_time)\n",
        "    search_time, custom_index_ann = compute_search_time(query_vectors, custom_index, k)\n",
        "    search_times.append(search_time)\n",
        "    recall = compute_recall_at_k(gt_nn, custom_index_ann, k)\n",
        "    recall_values.append(recall)\n",
        "\n",
        "  plt.plot(clusters, indexing_times)\n",
        "  plt.axhline(y=max_indexing_time, color='r', linestyle='--', label='max_indexing_time')\n",
        "  plt.xlabel('Number of Clusters')\n",
        "  plt.ylabel('Indexing Time (seconds)')\n",
        "  plt.title('Indexing Time vs Number of Clusters')\n",
        "  plt.legend()\n",
        "  plt.show()\n",
        "  print()\n",
        "\n",
        "  plt.plot(clusters, search_times)\n",
        "  plt.axhline(y=max_search_time, color='r', linestyle='--', label='max_search_time')\n",
        "  plt.xlabel('Number of Clusters')\n",
        "  plt.ylabel('Search Time (seconds)')\n",
        "  plt.title('Search Time vs Number of clusters')\n",
        "  plt.legend()\n",
        "  plt.show()\n",
        "  print()\n",
        "\n",
        "  plt.plot(clusters, recall_values)\n",
        "  plt.axhline(y=min_recall, color='r', linestyle='--', label='min_recall@10')\n",
        "  plt.xlabel('Number of Clusters')\n",
        "  plt.ylabel('Recall@10')\n",
        "  plt.title('Recall@10 vs Number of Clusters')\n",
        "  plt.legend()\n",
        "  plt.show()\n"
      ],
      "metadata": {
        "id": "UdjmTqRoR1e1"
      },
      "id": "UdjmTqRoR1e1",
      "execution_count": 267,
      "outputs": []
    },
    {
      "cell_type": "code",
      "source": [
        "plot_graphs(index_vectors, dim, max_indexing_time, min_recall, max_search_time)"
      ],
      "metadata": {
        "colab": {
          "base_uri": "https://localhost:8080/",
          "height": 1000
        },
        "id": "ChtCKrf1UVUs",
        "outputId": "e5656b97-8c0f-4d95-ebfc-f83f5f23162a"
      },
      "id": "ChtCKrf1UVUs",
      "execution_count": 268,
      "outputs": [
        {
          "output_type": "display_data",
          "data": {
            "text/plain": [
              "<Figure size 640x480 with 1 Axes>"
            ],
            "image/png": "[encoded data removed]"
          },
          "metadata": {}
        },
        {
          "output_type": "stream",
          "name": "stdout",
          "text": [
            "\n"
          ]
        },
        {
          "output_type": "display_data",
          "data": {
            "text/plain": [
              "<Figure size 640x480 with 1 Axes>"
            ],
            "image/png": "[encoded data removed]"
          },
          "metadata": {}
        },
        {
          "output_type": "stream",
          "name": "stdout",
          "text": [
            "\n"
          ]
        },
        {
          "output_type": "display_data",
          "data": {
            "text/plain": [
              "<Figure size 640x480 with 1 Axes>"
            ],
            "image/png": "[encoded data removed]"
          },
          "metadata": {}
        }
      ]
    },
    {
      "cell_type": "markdown",
      "source": [
        "**Ensure results on datasets 2 and 3**"
      ],
      "metadata": {
        "id": "IdqLSrL7R-WG"
      },
      "id": "IdqLSrL7R-WG"
    },
    {
      "cell_type": "code",
      "source": [
        "from prettytable import PrettyTable\n",
        "\n",
        "table = PrettyTable()\n",
        "table.field_names = [\"Data_num\", \"Exhaustive_time\", \"Indexing_time\", \"Search_time\", \"Recall\"]\n",
        "\n",
        "for i in [2,3]:\n",
        "  query_vectors = np.load(f'query_vectors{i}.npy')\n",
        "  index_vectors = np.load(f'index_vectors{i}.npy')\n",
        "  dim = index_vectors.shape[1]\n",
        "  k = 10\n",
        "  clusters = 9\n",
        "  gt_nn = semi_optimized_exhaustive_search(index_vectors, query_vectors, k)\n",
        "  indexing_time, custom_index = compute_indexing_time(index_vectors, dim,clusters)\n",
        "  search_time, custom_index_ann = compute_search_time(query_vectors, custom_index, k)\n",
        "  recall = compute_recall_at_k(gt_nn, custom_index_ann, k)\n",
        "  table.add_row([i, baseline_time, indexing_time, search_time, recall])\n",
        "\n",
        "print(table)"
      ],
      "metadata": {
        "colab": {
          "base_uri": "https://localhost:8080/"
        },
        "id": "bJXi9NhSLqDz",
        "outputId": "e53bc56b-d6c8-46c7-e175-b83d0065fac6"
      },
      "id": "bJXi9NhSLqDz",
      "execution_count": 269,
      "outputs": [
        {
          "output_type": "stream",
          "name": "stdout",
          "text": [
            "+----------+-------------------+--------------------+--------------------+--------+\n",
            "| Data_num |  Exhaustive_time  |   Indexing_time    |    Search_time     | Recall |\n",
            "+----------+-------------------+--------------------+--------------------+--------+\n",
            "|    2     | 17.61409068107605 | 0.8165304660797119 | 2.9334967136383057 |  1.0   |\n",
            "|    3     | 17.61409068107605 | 0.4681084156036377 | 1.729466199874878  |  1.0   |\n",
            "+----------+-------------------+--------------------+--------------------+--------+\n"
          ]
        }
      ]
    }
  ],
  "metadata": {
    "kernelspec": {
      "display_name": "Python 3 (ipykernel)",
      "language": "python",
      "name": "python3"
    },
    "language_info": {
      "codemirror_mode": {
        "name": "ipython",
        "version": 3
      },
      "file_extension": ".py",
      "mimetype": "text/x-python",
      "name": "python",
      "nbconvert_exporter": "python",
      "pygments_lexer": "ipython3",
      "version": "3.11.3"
    },
    "colab": {
      "provenance": []
    }
  },
  "nbformat": 4,
  "nbformat_minor": 5
}